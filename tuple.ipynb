{
 "cells": [
  {
   "cell_type": "markdown",
   "id": "79705237",
   "metadata": {},
   "source": [
    "## LIST\n",
    "\n",
    " ### creating a list\n",
    "     we can write code in list by using square braces\n",
    " ### Accessing elements:\n",
    "     you can access elements in a list using indexing.\n",
    " ### Slicing:\n",
    "       you can extract a portion of the list using slicing.\n",
    " ### Modifying lists :\n",
    "       you can change the value of a specific elememts by assigning a new value.\n",
    " ### Adding and removing elements:\n",
    "    Appending: Add an element to the end of the list using append().\n",
    "    Inserting: Insert an element at a specific position using using insert().\n",
    "    Removing: Remove an element by value using remove().\n",
    "    Popping: Remove and return an element by index using pop().\n",
    " ### List length:\n",
    "      you can find the length of a list using len().\n",
    " ### Iterating through a list :\n",
    "      you can use a loop to go through each item in a list.\n",
    "      "
   ]
  },
  {
   "cell_type": "code",
   "execution_count": null,
   "id": "4cec9eca",
   "metadata": {},
   "outputs": [],
   "source": []
  },
  {
   "cell_type": "code",
   "execution_count": 4,
   "id": "fce29caa",
   "metadata": {},
   "outputs": [],
   "source": [
    "x = ['deepu', 6 ,3.0, 5-2j, 'seven',False,print,range]"
   ]
  },
  {
   "cell_type": "markdown",
   "id": "fa1fa1b4",
   "metadata": {},
   "source": [
    "x"
   ]
  },
  {
   "cell_type": "code",
   "execution_count": null,
   "id": "b844c53e",
   "metadata": {},
   "outputs": [],
   "source": [
    "g = []\n",
    "print(g, type(g), len(g) ,id(g), sep='\\n')#length of empty string is zero\n",
    "[]\n",
    "<class 'list>'\n",
    "0\n",
    "2726800613184"
   ]
  },
  {
   "cell_type": "markdown",
   "id": "bdc0bc8b",
   "metadata": {},
   "source": [
    "## Indexing and slicing in lists:"
   ]
  },
  {
   "cell_type": "code",
   "execution_count": 10,
   "id": "d7c867b6",
   "metadata": {},
   "outputs": [
    {
     "name": "stdout",
     "output_type": "stream",
     "text": [
      "vedhu Male\n",
      "['vedhu', 88, True, 4.2, 'Male']\n",
      "['Male', 4.2, True, 88, 'vedhu']\n",
      "['deepu', 'dileep', 'neeraj']\n",
      "<class 'list'>\n",
      "1962860959680\n",
      "['vedhu', 88, True, 4.2, 'Male']\n",
      "<class 'list'>\n",
      "1962860959232\n"
     ]
    }
   ],
   "source": [
    "#Example\n",
    "list1 = [\"deepu\",\"dileep\",\"neeraj\"]\n",
    "list2 = [\"vedhu\",88,True,4.2,\"Male\"]\n",
    "print(list2[0],list2[-1]) #indexing\n",
    "print(list2[::],list2[::-1],sep='\\n') #slicing\n",
    "\n",
    "print(list1,type(list1),id(list1),sep='\\n')\n",
    "print(list2,type(list2),id(list2),sep='\\n')\n",
    "\n"
   ]
  },
  {
   "cell_type": "markdown",
   "id": "12699716",
   "metadata": {},
   "source": [
    "## Nested list\n",
    "### A list within another list  is reffered to as a nested list in python. we can also say that a list that has other lists as its elements in a nested list."
   ]
  },
  {
   "cell_type": "code",
   "execution_count": 16,
   "id": "f8a4ae2a",
   "metadata": {},
   "outputs": [
    {
     "name": "stdout",
     "output_type": "stream",
     "text": [
      "[1, 2, 3, [4, 5, 6]]\n",
      "<class 'list'>\n",
      "4\n",
      "0x1c9039ad780\n"
     ]
    }
   ],
   "source": [
    "l=[1,2,3,[4,5,6]]\n",
    "print(l,type(l),len(l),hex(id(l)),sep='\\n')"
   ]
  },
  {
   "cell_type": "code",
   "execution_count": 17,
   "id": "c1a8ee2e",
   "metadata": {},
   "outputs": [
    {
     "data": {
      "text/plain": [
       "(list, [4, 5, 6], 4, [6, 5, 4], [6, 4], 6)"
      ]
     },
     "execution_count": 17,
     "metadata": {},
     "output_type": "execute_result"
    }
   ],
   "source": [
    "type(l[3]),l[3],l[3][0],l[3][::-1],l[3][::-2],l[3][2]"
   ]
  },
  {
   "cell_type": "markdown",
   "id": "e2c704a1",
   "metadata": {},
   "source": [
    "## Range\n",
    "<!--the range() function reurns a sequence of members, starting from 0 by default, and increment by 1(by default), and stops before a specified number.\n",
    "Typecasting: Type casting,also known as type conversion, is an important concept in java that allows us to convert one data type into another. it is useful when we need to perform operations on different data types or when you want to store a value of one data type into a variable of another data type, default values of starting is zero and step is +1.\n",
    "syntax: range (start ,end , step) end means till not including end.--->"
   ]
  },
  {
   "cell_type": "code",
   "execution_count": 18,
   "id": "bf42f722",
   "metadata": {},
   "outputs": [
    {
     "name": "stdout",
     "output_type": "stream",
     "text": [
      "range(1, 11)\n",
      "<class 'range'>\n",
      "10\n",
      "0x1c902e86520\n"
     ]
    }
   ],
   "source": [
    "r=range(1,11)\n",
    "print(r,type(r),len(r),hex(id(r)),sep='\\n')"
   ]
  },
  {
   "cell_type": "code",
   "execution_count": 19,
   "id": "1218d38a",
   "metadata": {},
   "outputs": [
    {
     "data": {
      "text/plain": [
       "[1, 2, 3, 4, 5, 6, 7, 8, 9, 10]"
      ]
     },
     "execution_count": 19,
     "metadata": {},
     "output_type": "execute_result"
    }
   ],
   "source": [
    "list(r)"
   ]
  },
  {
   "cell_type": "code",
   "execution_count": 20,
   "id": "7e7975f1",
   "metadata": {},
   "outputs": [
    {
     "name": "stdout",
     "output_type": "stream",
     "text": [
      "[11, 10, 9, 8, 7, 6, 5, 4, 3, 2, 1]\n",
      "<class 'range'>\n",
      "11\n",
      "0x1c902e86310\n"
     ]
    }
   ],
   "source": [
    "r=range(11,0,-1)\n",
    "print(list(r),type(r),len(r),hex(id(r)),sep='\\n')\n",
    "#include number from 20 to 1 backwards, didnt include 0 , step was -1 so it is in decreasing order."
   ]
  },
  {
   "cell_type": "code",
   "execution_count": 21,
   "id": "04cbb8ae",
   "metadata": {},
   "outputs": [
    {
     "name": "stdout",
     "output_type": "stream",
     "text": [
      "range(10, 1, -1)\n",
      "<class 'range'>\n",
      "9\n",
      "0x1c902e868e0\n"
     ]
    }
   ],
   "source": [
    "r = range(10,1,-1)\n",
    "print(r, type(r), len(r), hex(id(r)),sep='\\n')"
   ]
  },
  {
   "cell_type": "code",
   "execution_count": 22,
   "id": "fc163259",
   "metadata": {},
   "outputs": [
    {
     "data": {
      "text/plain": [
       "[10, 9, 8, 7, 6, 5, 4, 3, 2]"
      ]
     },
     "execution_count": 22,
     "metadata": {},
     "output_type": "execute_result"
    }
   ],
   "source": [
    "list(r)"
   ]
  },
  {
   "cell_type": "code",
   "execution_count": 23,
   "id": "8920e0c9",
   "metadata": {},
   "outputs": [
    {
     "data": {
      "text/plain": [
       "range(0, 5)"
      ]
     },
     "execution_count": 23,
     "metadata": {},
     "output_type": "execute_result"
    }
   ],
   "source": [
    "range(5) #if we mention only 1 number so range takes it as end point  and starts it from 0."
   ]
  },
  {
   "cell_type": "code",
   "execution_count": 24,
   "id": "18e32440",
   "metadata": {},
   "outputs": [
    {
     "data": {
      "text/plain": [
       "([0, 1, 2, 3, 4, 5, 6, 7, 8, 9, 10], [0, 1, 2, 3, 4, 5, 6, 7, 8, 9, 10])"
      ]
     },
     "execution_count": 24,
     "metadata": {},
     "output_type": "execute_result"
    }
   ],
   "source": [
    "list(range(0,11,1)),list(range(0,11))"
   ]
  },
  {
   "cell_type": "code",
   "execution_count": 25,
   "id": "f75420b4",
   "metadata": {},
   "outputs": [
    {
     "data": {
      "text/plain": [
       "['__add__',\n",
       " '__class__',\n",
       " '__class_getitem__',\n",
       " '__contains__',\n",
       " '__delattr__',\n",
       " '__delitem__',\n",
       " '__dir__',\n",
       " '__doc__',\n",
       " '__eq__',\n",
       " '__format__',\n",
       " '__ge__',\n",
       " '__getattribute__',\n",
       " '__getitem__',\n",
       " '__getstate__',\n",
       " '__gt__',\n",
       " '__hash__',\n",
       " '__iadd__',\n",
       " '__imul__',\n",
       " '__init__',\n",
       " '__init_subclass__',\n",
       " '__iter__',\n",
       " '__le__',\n",
       " '__len__',\n",
       " '__lt__',\n",
       " '__mul__',\n",
       " '__ne__',\n",
       " '__new__',\n",
       " '__reduce__',\n",
       " '__reduce_ex__',\n",
       " '__repr__',\n",
       " '__reversed__',\n",
       " '__rmul__',\n",
       " '__setattr__',\n",
       " '__setitem__',\n",
       " '__sizeof__',\n",
       " '__str__',\n",
       " '__subclasshook__',\n",
       " 'append',\n",
       " 'clear',\n",
       " 'copy',\n",
       " 'count',\n",
       " 'extend',\n",
       " 'index',\n",
       " 'insert',\n",
       " 'pop',\n",
       " 'remove',\n",
       " 'reverse',\n",
       " 'sort']"
      ]
     },
     "execution_count": 25,
     "metadata": {},
     "output_type": "execute_result"
    }
   ],
   "source": [
    "dir(list)"
   ]
  },
  {
   "cell_type": "markdown",
   "id": "d5c338b9",
   "metadata": {},
   "source": [
    "## append()=### the append() method is used to adda an elements to the end of a list. lists are a built-in data type in python that can hold multiple values.the append() method is a list method that modifies the list in place by adding the specified elements to the end of the list.\n",
    "\n",
    "Here's the basic syntax for the append() method:\n",
    "\n",
    "list_name.append(element)\n",
    "list_name:The name of the list to which you want to add an element.\n",
    "element: The value you want to add to the end f the list.\n",
    "Example:"
   ]
  },
  {
   "cell_type": "code",
   "execution_count": 26,
   "id": "60a4b29f",
   "metadata": {},
   "outputs": [
    {
     "name": "stdout",
     "output_type": "stream",
     "text": [
      "[1, 2, 3, 4]\n"
     ]
    }
   ],
   "source": [
    "my_list =[1,2,3]\n",
    "my_list.append(4)\n",
    "print(my_list)"
   ]
  },
  {
   "cell_type": "markdown",
   "id": "70344eb1",
   "metadata": {},
   "source": [
    "my_list = [1,2,3]\n",
    "my_list.append([4,5]) # Appends the entire lists as a single element\n",
    "print(my_list)"
   ]
  },
  {
   "cell_type": "code",
   "execution_count": 28,
   "id": "84533820",
   "metadata": {},
   "outputs": [
    {
     "name": "stdout",
     "output_type": "stream",
     "text": [
      "[1, 2, 3, 4, 5]\n"
     ]
    }
   ],
   "source": [
    "my_list = [1,2,3]\n",
    "my_list.extend([4,5]) # extends the list with indiviual elements\n",
    "print(my_list)"
   ]
  },
  {
   "cell_type": "code",
   "execution_count": 29,
   "id": "8217a8f5",
   "metadata": {},
   "outputs": [
    {
     "name": "stdout",
     "output_type": "stream",
     "text": [
      "[1, 2, 3, 4, 5]\n"
     ]
    }
   ],
   "source": [
    "my_list = [1,2,3]\n",
    "my_list = my_list + [4,5]\n",
    "print(my_list)"
   ]
  },
  {
   "cell_type": "markdown",
   "id": "6817a94a",
   "metadata": {},
   "source": [
    "## Insert()\n",
    "    it allows you to insert an elements at a specific index in a list."
   ]
  },
  {
   "cell_type": "code",
   "execution_count": 30,
   "id": "e5dd5d02",
   "metadata": {},
   "outputs": [
    {
     "name": "stdout",
     "output_type": "stream",
     "text": [
      "[1, 2, 6, 3, 4, 5]\n"
     ]
    }
   ],
   "source": [
    "my_list = [1,2,3,4,5]\n",
    "my_list.insert(2,6) # Insert 6 at index 2\n",
    "print(my_list)"
   ]
  },
  {
   "cell_type": "markdown",
   "id": "3b66669f",
   "metadata": {},
   "source": [
    "## Count()"
   ]
  },
  {
   "cell_type": "code",
   "execution_count": 31,
   "id": "af6ef31a",
   "metadata": {},
   "outputs": [
    {
     "data": {
      "text/plain": [
       "2"
      ]
     },
     "execution_count": 31,
     "metadata": {},
     "output_type": "execute_result"
    }
   ],
   "source": [
    "[1,2,3,4,1,2,3,5,6,1,7,5].count(2)"
   ]
  },
  {
   "cell_type": "markdown",
   "id": "d597e160",
   "metadata": {},
   "source": [
    "## Remove()\n",
    "   removes given element's first occurance from left to right.\n",
    "   syntax:list.remove('a')"
   ]
  },
  {
   "cell_type": "code",
   "execution_count": 33,
   "id": "fe8fb3a2",
   "metadata": {},
   "outputs": [
    {
     "data": {
      "text/plain": [
       "['m', 'a', 'l', 'a', 'y', 'a', 'l', 'a', 'm']"
      ]
     },
     "execution_count": 33,
     "metadata": {},
     "output_type": "execute_result"
    }
   ],
   "source": [
    "x = list('malayalam')\n",
    "x"
   ]
  },
  {
   "cell_type": "code",
   "execution_count": 34,
   "id": "7b4da4ac",
   "metadata": {},
   "outputs": [
    {
     "data": {
      "text/plain": [
       "['m', 'l', 'a', 'y', 'a', 'l', 'a', 'm']"
      ]
     },
     "execution_count": 34,
     "metadata": {},
     "output_type": "execute_result"
    }
   ],
   "source": [
    "x.remove('a')\n",
    "x"
   ]
  },
  {
   "cell_type": "markdown",
   "id": "3fe20c7d",
   "metadata": {},
   "source": [
    "## pop()\n",
    "     pop gives back the last values from the list by default and removes that value from the list if you print it after that .if you mention the index number so it will give it back and remove kit from the list."
   ]
  },
  {
   "cell_type": "code",
   "execution_count": 35,
   "id": "9647ab22",
   "metadata": {},
   "outputs": [
    {
     "data": {
      "text/plain": [
       "5"
      ]
     },
     "execution_count": 35,
     "metadata": {},
     "output_type": "execute_result"
    }
   ],
   "source": [
    "l = [0,1,2,3,4,5] # 5 will be taken out return to user.\n",
    "l.pop()"
   ]
  },
  {
   "cell_type": "code",
   "execution_count": 36,
   "id": "f3ef50e1",
   "metadata": {},
   "outputs": [
    {
     "data": {
      "text/plain": [
       "(4, [0, 1, 2, 3])"
      ]
     },
     "execution_count": 36,
     "metadata": {},
     "output_type": "execute_result"
    }
   ],
   "source": [
    "a = l.pop()\n",
    "a,l"
   ]
  },
  {
   "cell_type": "code",
   "execution_count": 38,
   "id": "57de4ee2",
   "metadata": {},
   "outputs": [
    {
     "data": {
      "text/plain": [
       "1"
      ]
     },
     "execution_count": 38,
     "metadata": {},
     "output_type": "execute_result"
    }
   ],
   "source": [
    "l.pop(1)"
   ]
  },
  {
   "cell_type": "markdown",
   "id": "8d1ea86f",
   "metadata": {},
   "source": [
    "## Tuple()\n",
    "### A tuple in python is a collection of ordered, immutable elements. this means that once you create a tuple,you cannot change its contents. tuples are defined using parantheses().tuples,unlike lists,cannot be modifed once they are created . this is immutability provides safety for data that should not be changed accidentally.\n",
    "    "
   ]
  },
  {
   "cell_type": "code",
   "execution_count": 1,
   "id": "b0fc51ae",
   "metadata": {},
   "outputs": [],
   "source": [
    "my_tuple = (1,2,3,'apple','banana')\n",
    "empty_tuple = ()\n",
    "single_element_tuple =(5,) # note the comma after the single element"
   ]
  },
  {
   "cell_type": "code",
   "execution_count": 2,
   "id": "02b229d1",
   "metadata": {},
   "outputs": [
    {
     "name": "stdout",
     "output_type": "stream",
     "text": [
      "1\n",
      "(2, 3, 'apple')\n"
     ]
    }
   ],
   "source": [
    "my_tuple = (1,2,3,'apple','banana')\n",
    "print(my_tuple[0]) # accesses the first element:1\n",
    "print(my_tuple[1:4]) # slices elements from index 1 to 3:(2,3,'apple')"
   ]
  },
  {
   "cell_type": "markdown",
   "id": "5cacc69a",
   "metadata": {},
   "source": [
    "## count()\n",
    "### counts the number of occurrences of a specified value in the tuple."
   ]
  },
  {
   "cell_type": "code",
   "execution_count": 3,
   "id": "b1c7ff80",
   "metadata": {},
   "outputs": [
    {
     "name": "stdout",
     "output_type": "stream",
     "text": [
      "3\n"
     ]
    }
   ],
   "source": [
    "my_tuple = (1,2,2,3,2,'apple')\n",
    "count_2 = my_tuple.count(2) # count of occurrences of '2'\n",
    "print(count_2)"
   ]
  },
  {
   "cell_type": "markdown",
   "id": "b1bb10db",
   "metadata": {},
   "source": [
    "## Index()\n",
    "### returns the index of the first occurrences of a specified value."
   ]
  },
  {
   "cell_type": "code",
   "execution_count": 5,
   "id": "b7ccd7a7",
   "metadata": {},
   "outputs": [
    {
     "data": {
      "text/plain": [
       "1"
      ]
     },
     "execution_count": 5,
     "metadata": {},
     "output_type": "execute_result"
    }
   ],
   "source": [
    "my_tuple = ('a', 'b', 'c', 'b')\n",
    "index_b = my_tuple.index('b') # Returns 1 (index of the first occurence of 'b')\n",
    "index_b"
   ]
  },
  {
   "cell_type": "code",
   "execution_count": null,
   "id": "a260c377",
   "metadata": {},
   "outputs": [],
   "source": []
  }
 ],
 "metadata": {
  "kernelspec": {
   "display_name": "Python 3 (ipykernel)",
   "language": "python",
   "name": "python3"
  },
  "language_info": {
   "codemirror_mode": {
    "name": "ipython",
    "version": 3
   },
   "file_extension": ".py",
   "mimetype": "text/x-python",
   "name": "python",
   "nbconvert_exporter": "python",
   "pygments_lexer": "ipython3",
   "version": "3.11.5"
  }
 },
 "nbformat": 4,
 "nbformat_minor": 5
}
