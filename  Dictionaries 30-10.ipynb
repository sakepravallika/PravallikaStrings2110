{
 "cells": [
  {
   "cell_type": "markdown",
   "id": "45e0444b",
   "metadata": {},
   "source": [
    "# Dictionaries\n",
    "### Dictionary in Python is a collection of keys values, used to store data values like a map, which, unlike other data types which hold only a single value as an element."
   ]
  },
  {
   "cell_type": "code",
   "execution_count": 42,
   "id": "a6f98357",
   "metadata": {},
   "outputs": [
    {
     "name": "stdout",
     "output_type": "stream",
     "text": [
      "{} <class 'dict'>\n"
     ]
    }
   ],
   "source": [
    "x = {}\n",
    "print(x,type(x))"
   ]
  },
  {
   "cell_type": "code",
   "execution_count": 43,
   "id": "0ae92c85",
   "metadata": {},
   "outputs": [
    {
     "name": "stdout",
     "output_type": "stream",
     "text": [
      "{} <class 'dict'>\n"
     ]
    }
   ],
   "source": [
    "x=dict()\n",
    "print(x,type(x))"
   ]
  },
  {
   "cell_type": "code",
   "execution_count": 44,
   "id": "09adf672",
   "metadata": {},
   "outputs": [
    {
     "name": "stdout",
     "output_type": "stream",
     "text": [
      "{1: 'Pravallika', 2: 'arun', 3: 'joshi'}\n"
     ]
    }
   ],
   "source": [
    "Dict = {1: 'Pravallika', 2: 'arun', 3: 'joshi'} # Create a Dictionary with Key-Value Pairs\n",
    "print(Dict)\n"
   ]
  },
  {
   "cell_type": "markdown",
   "id": "41252b55",
   "metadata": {},
   "source": [
    "### In Python, a dictionary can be created by placing a sequence of elements within curly {} braces, separated by ‘comma’. Dictionary holds pairs of values, one being the Key and the other corresponding pair element being its Key:value. Values in a dictionary can be of any data type and can be duplicated, whereas keys can’t be repeated and must be immutable. "
   ]
  },
  {
   "cell_type": "code",
   "execution_count": 45,
   "id": "2c1c136c",
   "metadata": {},
   "outputs": [
    {
     "data": {
      "text/plain": [
       "{1: 'Pravallika', 2: 'arun', 3: 'joshi', 'occupation': 'Innomenon'}"
      ]
     },
     "execution_count": 45,
     "metadata": {},
     "output_type": "execute_result"
    }
   ],
   "source": [
    "Dict[\"occupation\"] = \"Innomenon\" # Add Key-Value Pairs to an Existing Dictionary\n",
    "Dict"
   ]
  },
  {
   "cell_type": "code",
   "execution_count": 46,
   "id": "74fc368d",
   "metadata": {},
   "outputs": [
    {
     "data": {
      "text/plain": [
       "{'street': '123 Main St', 'city': 'Anytown'}"
      ]
     },
     "execution_count": 46,
     "metadata": {},
     "output_type": "execute_result"
    }
   ],
   "source": [
    "# Create a dictionary with different data types\n",
    "data = {\n",
    "    \"name\": \"Bob\",\n",
    "    \"grades\": [85, 90, 78],\n",
    "    \"address\": {\n",
    "        \"street\": \"123 Main St\",\n",
    "        \"city\": \"Anytown\"\n",
    "    }\n",
    "}\n",
    "data[\"address\"]\n"
   ]
  },
  {
   "cell_type": "code",
   "execution_count": 47,
   "id": "82dd95d6",
   "metadata": {},
   "outputs": [
    {
     "data": {
      "text/plain": [
       "'Bob'"
      ]
     },
     "execution_count": 47,
     "metadata": {},
     "output_type": "execute_result"
    }
   ],
   "source": [
    "# access the dictionary\n",
    "data = {\n",
    "    \"name\": \"Bob\",\n",
    "    \"grades\": [85, 90, 78],\n",
    "    \"address\": {\n",
    "        \"street\": \"123 Main St\",\n",
    "        \"city\": \"Anytown\"\n",
    "    }\n",
    "}\n",
    "name = data[\"name\"]\n",
    "name"
   ]
  },
  {
   "cell_type": "code",
   "execution_count": 48,
   "id": "8c1f801c",
   "metadata": {},
   "outputs": [
    {
     "data": {
      "text/plain": [
       "{'k1': 1, 'k2': 2, 'k3': 3}"
      ]
     },
     "execution_count": 48,
     "metadata": {},
     "output_type": "execute_result"
    }
   ],
   "source": [
    "# Modify Values in a Dictionary\n",
    "x = {'k1':1,\n",
    "    'k2':2,\n",
    "    'k3':3}\n",
    "x"
   ]
  },
  {
   "cell_type": "code",
   "execution_count": 49,
   "id": "37716a08",
   "metadata": {},
   "outputs": [
    {
     "data": {
      "text/plain": [
       "1"
      ]
     },
     "execution_count": 49,
     "metadata": {},
     "output_type": "execute_result"
    }
   ],
   "source": [
    "x['k1']"
   ]
  },
  {
   "cell_type": "code",
   "execution_count": 50,
   "id": "4dff3c95",
   "metadata": {},
   "outputs": [
    {
     "data": {
      "text/plain": [
       "{'k1': 111, 'k2': 2, 'k3': 3}"
      ]
     },
     "execution_count": 50,
     "metadata": {},
     "output_type": "execute_result"
    }
   ],
   "source": [
    "x['k1'] = 111\n",
    "x"
   ]
  },
  {
   "cell_type": "code",
   "execution_count": 51,
   "id": "afb7a0cd",
   "metadata": {},
   "outputs": [
    {
     "data": {
      "text/plain": [
       "{'name': 'Bob'}"
      ]
     },
     "execution_count": 51,
     "metadata": {},
     "output_type": "execute_result"
    }
   ],
   "source": [
    "# Remove Key-Value Pairs from a Dictionary\n",
    "data = {\n",
    "    \"name\": \"Bob\",\n",
    "        \"city\": \"Anytown\"\n",
    "}\n",
    "del data[\"city\"]\n",
    "data"
   ]
  },
  {
   "cell_type": "code",
   "execution_count": 52,
   "id": "3ec45967",
   "metadata": {},
   "outputs": [
    {
     "data": {
      "text/plain": [
       "['__class__',\n",
       " '__class_getitem__',\n",
       " '__contains__',\n",
       " '__delattr__',\n",
       " '__delitem__',\n",
       " '__dir__',\n",
       " '__doc__',\n",
       " '__eq__',\n",
       " '__format__',\n",
       " '__ge__',\n",
       " '__getattribute__',\n",
       " '__getitem__',\n",
       " '__getstate__',\n",
       " '__gt__',\n",
       " '__hash__',\n",
       " '__init__',\n",
       " '__init_subclass__',\n",
       " '__ior__',\n",
       " '__iter__',\n",
       " '__le__',\n",
       " '__len__',\n",
       " '__lt__',\n",
       " '__ne__',\n",
       " '__new__',\n",
       " '__or__',\n",
       " '__reduce__',\n",
       " '__reduce_ex__',\n",
       " '__repr__',\n",
       " '__reversed__',\n",
       " '__ror__',\n",
       " '__setattr__',\n",
       " '__setitem__',\n",
       " '__sizeof__',\n",
       " '__str__',\n",
       " '__subclasshook__',\n",
       " 'clear',\n",
       " 'copy',\n",
       " 'fromkeys',\n",
       " 'get',\n",
       " 'items',\n",
       " 'keys',\n",
       " 'pop',\n",
       " 'popitem',\n",
       " 'setdefault',\n",
       " 'update',\n",
       " 'values']"
      ]
     },
     "execution_count": 52,
     "metadata": {},
     "output_type": "execute_result"
    }
   ],
   "source": [
    "dir(dict)"
   ]
  },
  {
   "cell_type": "code",
   "execution_count": 53,
   "id": "4c8c15b0",
   "metadata": {},
   "outputs": [
    {
     "data": {
      "text/plain": [
       "{}"
      ]
     },
     "execution_count": 53,
     "metadata": {},
     "output_type": "execute_result"
    }
   ],
   "source": [
    "# clear()\n",
    "x.clear()\n",
    "x"
   ]
  },
  {
   "cell_type": "code",
   "execution_count": 54,
   "id": "25b047eb",
   "metadata": {},
   "outputs": [
    {
     "name": "stdout",
     "output_type": "stream",
     "text": [
      "{'k1': 1, 'k2': 2, 'k3': 3}\n",
      "{'k1': 1, 'k2': 2, 'k3': 3}/n<class 'dict'>/n0x2ce1dbf8c00\n",
      "{'k1': 1, 'k2': 2, 'k3': 3}/n<class 'dict'>/n0x2ce1dbfa340\n"
     ]
    }
   ],
   "source": [
    "# copy()\n",
    "a = {'k1':1,\n",
    "    'k2':2,\n",
    "    'k3':3}\n",
    "print(a)\n",
    "print(a,type(a),hex(id(a)),sep='/n')\n",
    "x = a.copy()\n",
    "print(x,type(x),hex(id(x)),sep='/n')"
   ]
  },
  {
   "cell_type": "code",
   "execution_count": 55,
   "id": "61b37852",
   "metadata": {},
   "outputs": [
    {
     "data": {
      "text/plain": [
       "{'k1': 1, 'k2': 2, 'k3': 3}"
      ]
     },
     "execution_count": 55,
     "metadata": {},
     "output_type": "execute_result"
    }
   ],
   "source": [
    "# fromKeys\n",
    "x"
   ]
  },
  {
   "cell_type": "code",
   "execution_count": 56,
   "id": "5ac680ea",
   "metadata": {},
   "outputs": [
    {
     "data": {
      "text/plain": [
       "{'k1': None, 'k2': None, 'k3': None}"
      ]
     },
     "execution_count": 56,
     "metadata": {},
     "output_type": "execute_result"
    }
   ],
   "source": [
    "z = dict.fromkeys(x)\n",
    "z"
   ]
  },
  {
   "cell_type": "code",
   "execution_count": 57,
   "id": "05bc18b5",
   "metadata": {},
   "outputs": [
    {
     "data": {
      "text/plain": [
       "{'k1': 1, 'k2': 2, 'k3': 3}"
      ]
     },
     "execution_count": 57,
     "metadata": {},
     "output_type": "execute_result"
    }
   ],
   "source": [
    "# get()\n",
    "x = {'k1':1,\n",
    "    'k2':2,\n",
    "    'k3':3}\n",
    "x"
   ]
  },
  {
   "cell_type": "code",
   "execution_count": 58,
   "id": "19cfc177",
   "metadata": {},
   "outputs": [
    {
     "data": {
      "text/plain": [
       "1"
      ]
     },
     "execution_count": 58,
     "metadata": {},
     "output_type": "execute_result"
    }
   ],
   "source": [
    "x.get('k1')"
   ]
  },
  {
   "cell_type": "code",
   "execution_count": 59,
   "id": "0b8c46ae",
   "metadata": {},
   "outputs": [
    {
     "data": {
      "text/plain": [
       "dict_items([('k1', None), ('k2', None), ('k3', None)])"
      ]
     },
     "execution_count": 59,
     "metadata": {},
     "output_type": "execute_result"
    }
   ],
   "source": [
    "# items\n",
    "z.items()"
   ]
  },
  {
   "cell_type": "code",
   "execution_count": 60,
   "id": "3263a069",
   "metadata": {},
   "outputs": [
    {
     "data": {
      "text/plain": [
       "dict_keys(['k1', 'k2', 'k3'])"
      ]
     },
     "execution_count": 60,
     "metadata": {},
     "output_type": "execute_result"
    }
   ],
   "source": [
    "# keys\n",
    "z.keys()"
   ]
  },
  {
   "cell_type": "code",
   "execution_count": 61,
   "id": "378c3fc2",
   "metadata": {},
   "outputs": [
    {
     "data": {
      "text/plain": [
       "{'k1': 1, 'k3': 3}"
      ]
     },
     "execution_count": 61,
     "metadata": {},
     "output_type": "execute_result"
    }
   ],
   "source": [
    "# pop()\n",
    "x.pop('k2')\n",
    "x"
   ]
  },
  {
   "cell_type": "code",
   "execution_count": 62,
   "id": "4df5d13f",
   "metadata": {},
   "outputs": [
    {
     "data": {
      "text/plain": [
       "('k3', 3)"
      ]
     },
     "execution_count": 62,
     "metadata": {},
     "output_type": "execute_result"
    }
   ],
   "source": [
    "# popitem()\n",
    "x.popitem()"
   ]
  },
  {
   "cell_type": "code",
   "execution_count": 63,
   "id": "7b944903",
   "metadata": {},
   "outputs": [
    {
     "name": "stdout",
     "output_type": "stream",
     "text": [
      "{'k1': 1, 'k2': 2, 'k3': 3}\n"
     ]
    }
   ],
   "source": [
    "# update\n",
    "x={'k1':1,'k2':2,'k3':3}\n",
    "print(x)"
   ]
  },
  {
   "cell_type": "code",
   "execution_count": 64,
   "id": "01219646",
   "metadata": {},
   "outputs": [
    {
     "name": "stdout",
     "output_type": "stream",
     "text": [
      "{'k1': 1, 'k2': 2, 'k3': 3, 'k5': 5, 'k6': 6}\n"
     ]
    }
   ],
   "source": [
    "x.update([('k5',5),('k6',6)]) \n",
    "print(x)"
   ]
  },
  {
   "cell_type": "code",
   "execution_count": 65,
   "id": "b6830af5",
   "metadata": {},
   "outputs": [
    {
     "name": "stdout",
     "output_type": "stream",
     "text": [
      "dict_values([1, 2, 3, 5, 6, 7, 9])\n",
      "<class 'dict_values'>\n",
      "0x2ce1db8fee0\n",
      "7\n"
     ]
    }
   ],
   "source": [
    "# Values\n",
    "a={'k1': 1, 'k2': 2, 'k3': 3, 'k5': 5, 'k6': 6, 'k7': 7, 'k8': 9}\n",
    "avalues=a.values()\n",
    "print(avalues,type(avalues),hex(id(avalues)),len(avalues),sep='\\n')"
   ]
  },
  {
   "cell_type": "code",
   "execution_count": 66,
   "id": "ad1940f9",
   "metadata": {},
   "outputs": [
    {
     "name": "stdout",
     "output_type": "stream",
     "text": [
      "[1, 2, 3, 5, 6, 7, 9]\n",
      "<class 'list'>\n",
      "0x2ce1dc261c0\n",
      "7\n"
     ]
    }
   ],
   "source": [
    "avalues=list(avalues)\n",
    "print(avalues,type(avalues),hex(id(avalues)),len(avalues),sep='\\n')"
   ]
  },
  {
   "cell_type": "code",
   "execution_count": 67,
   "id": "f5649168",
   "metadata": {},
   "outputs": [
    {
     "data": {
      "text/plain": [
       "dict_values([1, 2, 3, 5, 6, 7, 9])"
      ]
     },
     "execution_count": 67,
     "metadata": {},
     "output_type": "execute_result"
    }
   ],
   "source": [
    "a={'k1': 1, 'k2': 2, 'k3': 3, 'k5': 5, 'k6': 6, 'k7': 7, 'k8': 9}\n",
    "a.values()"
   ]
  },
  {
   "cell_type": "code",
   "execution_count": 68,
   "id": "add0b4ea",
   "metadata": {},
   "outputs": [
    {
     "name": "stdout",
     "output_type": "stream",
     "text": [
      "Help on method_descriptor:\n",
      "\n",
      "setdefault(self, key, default=None, /)\n",
      "    Insert key with a value of default if key is not in the dictionary.\n",
      "    \n",
      "    Return the value for key if key is in the dictionary, else default.\n",
      "\n"
     ]
    }
   ],
   "source": [
    "help(dict.setdefault)"
   ]
  },
  {
   "cell_type": "markdown",
   "id": "d8db5837",
   "metadata": {},
   "source": [
    "# setdefault()\n",
    "### The setdefault() method in Python is used to insert a key with a specified value into a dictionary if the key is not already present. It returns the value of the key if it is in the dictionary; if not, it inserts the key with the specified value and returns that value."
   ]
  },
  {
   "cell_type": "code",
   "execution_count": 69,
   "id": "0d8c7e37",
   "metadata": {},
   "outputs": [
    {
     "name": "stdout",
     "output_type": "stream",
     "text": [
      "Dictionary after setdefault(): {'apple': 2, 'orange': 3, 'banana': 1, 'grapes': 5}\n",
      "Value of 'grapes' in the dictionary: 5\n"
     ]
    }
   ],
   "source": [
    "# Creating a dictionary\n",
    "my_dict = {'apple': 2, 'orange': 3, 'banana': 1}\n",
    "\n",
    "# Using setdefault() to add a new key-value pair\n",
    "value = my_dict.setdefault('grapes', 5)\n",
    "\n",
    "print(\"Dictionary after setdefault():\", my_dict)\n",
    "print(\"Value of 'grapes' in the dictionary:\", value)"
   ]
  },
  {
   "cell_type": "markdown",
   "id": "e9f12b4d",
   "metadata": {},
   "source": [
    "# maketrans() in string\n",
    "### The maketrans() method in Python is used to create a translation table, particularly for replacing or removing specific characters in a string. This method is often used in conjunction with the translate() method to perform such transformations.\n",
    "\n",
    "syntax: str.maketrans(x[, y[, z]])\n",
    "\n",
    "x - Required: A string specifying the characters that need to be replaced.\n",
    "y - Optional: Another string specifying the characters to replace x with, where each character in x will be mapped to the character at the same position in y.\n",
    "z - Optional: A third string specifying characters to delete from the string."
   ]
  },
  {
   "cell_type": "code",
   "execution_count": 70,
   "id": "6433759d",
   "metadata": {},
   "outputs": [
    {
     "name": "stdout",
     "output_type": "stream",
     "text": [
      "Original string: Hello, how are you?\n",
      "Translated string: H2ll4, h4w 1r2 y45?\n"
     ]
    }
   ],
   "source": [
    "# Creating a translation table using maketrans\n",
    "original_string = \"Hello, how are you?\"\n",
    "translation_table = str.maketrans('aeiou', '12345')\n",
    "\n",
    "# Applying the translation table using translate\n",
    "translated_string = original_string.translate(translation_table)\n",
    "\n",
    "print(\"Original string:\", original_string)\n",
    "print(\"Translated string:\", translated_string)"
   ]
  },
  {
   "cell_type": "code",
   "execution_count": 71,
   "id": "e15de60a",
   "metadata": {},
   "outputs": [
    {
     "name": "stdout",
     "output_type": "stream",
     "text": [
      "!@#innomatics#@!\n"
     ]
    }
   ],
   "source": [
    "v='!@#innomatics#@!'\n",
    "print(v)"
   ]
  },
  {
   "cell_type": "code",
   "execution_count": 72,
   "id": "f9781b47",
   "metadata": {},
   "outputs": [
    {
     "name": "stdout",
     "output_type": "stream",
     "text": [
      "{64: 's', 115: '7', 97: 'zz'}\n"
     ]
    },
    {
     "data": {
      "text/plain": [
       "{64: 's', 115: '7', 97: 'zz'}"
      ]
     },
     "execution_count": 72,
     "metadata": {},
     "output_type": "execute_result"
    }
   ],
   "source": [
    "a=v.maketrans({'@':'s','s':'7','a':'zz'}) \n",
    "print(a)                                \n",
    "{64: 's', 115: '7', 97: 'zz'}"
   ]
  },
  {
   "cell_type": "markdown",
   "id": "ac055e5b",
   "metadata": {},
   "source": [
    "# translate()\n",
    "### The translate() method in Python is used to replace each character in a string using a translation table. It works in combination with maketrans() which creates the translation table. The translate() method is particularly useful when you have a pre-built translation table or want to replace specific characters in a string according to a set of rules."
   ]
  },
  {
   "cell_type": "code",
   "execution_count": 73,
   "id": "4b86a669",
   "metadata": {},
   "outputs": [
    {
     "name": "stdout",
     "output_type": "stream",
     "text": [
      "Original string: Hello, how are you?\n",
      "Translated string: H2ll4, h4w 1r2 y45?\n"
     ]
    }
   ],
   "source": [
    "# Creating a translation table using maketrans\n",
    "original_string = \"Hello, how are you?\"\n",
    "translation_table = str.maketrans('aeiou', '12345')\n",
    "\n",
    "# Applying the translation table using translate\n",
    "translated_string = original_string.translate(translation_table)\n",
    "\n",
    "print(\"Original string:\", original_string)\n",
    "print(\"Translated string:\", translated_string)"
   ]
  },
  {
   "cell_type": "code",
   "execution_count": 74,
   "id": "628af088",
   "metadata": {},
   "outputs": [
    {
     "data": {
      "text/plain": [
       "'!s#innomzztic7#s!'"
      ]
     },
     "execution_count": 74,
     "metadata": {},
     "output_type": "execute_result"
    }
   ],
   "source": [
    "# Translate\n",
    "v.translate(a)"
   ]
  },
  {
   "cell_type": "markdown",
   "id": "45c4d434",
   "metadata": {},
   "source": [
    "# conditional statements :"
   ]
  },
  {
   "cell_type": "code",
   "execution_count": 75,
   "id": "50a1c483",
   "metadata": {},
   "outputs": [
    {
     "name": "stdout",
     "output_type": "stream",
     "text": [
      "second round\n"
     ]
    }
   ],
   "source": [
    "marks = 80\n",
    "if marks >= 80:\n",
    "    print('second round')"
   ]
  },
  {
   "cell_type": "code",
   "execution_count": 76,
   "id": "5ffaec5d",
   "metadata": {},
   "outputs": [],
   "source": [
    "marks = 50\n",
    "if marks >= 80:\n",
    "    print('second round')"
   ]
  },
  {
   "cell_type": "code",
   "execution_count": 77,
   "id": "7c0cfb31",
   "metadata": {},
   "outputs": [
    {
     "name": "stdout",
     "output_type": "stream",
     "text": [
      "first round\n"
     ]
    }
   ],
   "source": [
    "marks = 75\n",
    "if marks >= 80:\n",
    "    print(\"second round\")\n",
    "elif (marks >= 70):\n",
    "    print(\"first round\")\n",
    "elif (marks >= 60):\n",
    "    print(\"screening round\")\n",
    "else:\n",
    "    print(\"study hard\")"
   ]
  },
  {
   "cell_type": "code",
   "execution_count": 78,
   "id": "415aa204",
   "metadata": {},
   "outputs": [
    {
     "name": "stdout",
     "output_type": "stream",
     "text": [
      "second round\n"
     ]
    }
   ],
   "source": [
    "marks = 85\n",
    "if marks >= 80:\n",
    "    print(\"second round\")\n",
    "elif (marks >= 70):\n",
    "    print(\"first round\")\n",
    "elif (marks >= 60):\n",
    "    print(\"screening round\")\n",
    "else:\n",
    "    print(\"study hard\")"
   ]
  },
  {
   "cell_type": "code",
   "execution_count": 79,
   "id": "b2fec696",
   "metadata": {},
   "outputs": [
    {
     "name": "stdout",
     "output_type": "stream",
     "text": [
      "study hard\n"
     ]
    }
   ],
   "source": [
    "marks = 40\n",
    "if marks >= 80:\n",
    "    print(\"second round\")\n",
    "elif (marks >= 70):\n",
    "    print(\"first round\")\n",
    "elif (marks >= 60):\n",
    "    print(\"screening round\")\n",
    "else:\n",
    "    print(\"study hard\")"
   ]
  },
  {
   "cell_type": "code",
   "execution_count": 80,
   "id": "716d4ce4",
   "metadata": {},
   "outputs": [
    {
     "name": "stdout",
     "output_type": "stream",
     "text": [
      "screening round\n"
     ]
    }
   ],
   "source": [
    "marks = 69\n",
    "if marks >= 80:\n",
    "    print(\"second round\")\n",
    "elif (marks >= 70):\n",
    "    print(\"first round\")\n",
    "elif (marks >= 60):\n",
    "    print(\"screening round\")\n",
    "else:\n",
    "    print(\"study hard\")"
   ]
  },
  {
   "cell_type": "code",
   "execution_count": 81,
   "id": "05c5e504",
   "metadata": {},
   "outputs": [
    {
     "name": "stdout",
     "output_type": "stream",
     "text": [
      "screening round\n"
     ]
    }
   ],
   "source": [
    "marks = 69\n",
    "if marks >= 80:\n",
    "    print(\"second round\")\n",
    "elif (marks >= 70):\n",
    "    print(\"first round\")\n",
    "elif (marks >= 60):\n",
    "    print(\"screening round\")\n",
    "else:\n",
    "    print(\"study hard\")"
   ]
  },
  {
   "cell_type": "code",
   "execution_count": 82,
   "id": "b715b177",
   "metadata": {},
   "outputs": [
    {
     "name": "stdout",
     "output_type": "stream",
     "text": [
      "screening round\n"
     ]
    }
   ],
   "source": [
    "# Task\n",
    "marks = 92\n",
    "if marks >= 60 and marks <= 70:\n",
    "    print(\"second round\")\n",
    "elif (marks >= 70 and marks <= 80):\n",
    "    print(\"first round\")\n",
    "elif (marks >= 80 and marks < 99):\n",
    "    print(\"screening round\")\n",
    "else:\n",
    "    print(\"study hard\")"
   ]
  }
 ],
 "metadata": {
  "kernelspec": {
   "display_name": "Python 3 (ipykernel)",
   "language": "python",
   "name": "python3"
  },
  "language_info": {
   "codemirror_mode": {
    "name": "ipython",
    "version": 3
   },
   "file_extension": ".py",
   "mimetype": "text/x-python",
   "name": "python",
   "nbconvert_exporter": "python",
   "pygments_lexer": "ipython3",
   "version": "3.11.5"
  }
 },
 "nbformat": 4,
 "nbformat_minor": 5
}
