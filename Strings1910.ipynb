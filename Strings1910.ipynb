{
 "cells": [
  {
   "cell_type": "markdown",
   "id": "29861f2c",
   "metadata": {},
   "source": [
    "# Strings\n",
    "\n",
    "## String methods are used to manipulate and work with strings in programming, string is a sequence of characters enclosed within either single quotes (''), double quotes (\" \"), or triple quotes (''' or \"\"\"), it is used to represent textual data, and are Immutable."
   ]
  },
  {
   "cell_type": "code",
   "execution_count": 1,
   "id": "466d305a",
   "metadata": {},
   "outputs": [
    {
     "data": {
      "text/plain": [
       "['__add__',\n",
       " '__class__',\n",
       " '__contains__',\n",
       " '__delattr__',\n",
       " '__dir__',\n",
       " '__doc__',\n",
       " '__eq__',\n",
       " '__format__',\n",
       " '__ge__',\n",
       " '__getattribute__',\n",
       " '__getitem__',\n",
       " '__getnewargs__',\n",
       " '__getstate__',\n",
       " '__gt__',\n",
       " '__hash__',\n",
       " '__init__',\n",
       " '__init_subclass__',\n",
       " '__iter__',\n",
       " '__le__',\n",
       " '__len__',\n",
       " '__lt__',\n",
       " '__mod__',\n",
       " '__mul__',\n",
       " '__ne__',\n",
       " '__new__',\n",
       " '__reduce__',\n",
       " '__reduce_ex__',\n",
       " '__repr__',\n",
       " '__rmod__',\n",
       " '__rmul__',\n",
       " '__setattr__',\n",
       " '__sizeof__',\n",
       " '__str__',\n",
       " '__subclasshook__',\n",
       " 'capitalize',\n",
       " 'casefold',\n",
       " 'center',\n",
       " 'count',\n",
       " 'encode',\n",
       " 'endswith',\n",
       " 'expandtabs',\n",
       " 'find',\n",
       " 'format',\n",
       " 'format_map',\n",
       " 'index',\n",
       " 'isalnum',\n",
       " 'isalpha',\n",
       " 'isascii',\n",
       " 'isdecimal',\n",
       " 'isdigit',\n",
       " 'isidentifier',\n",
       " 'islower',\n",
       " 'isnumeric',\n",
       " 'isprintable',\n",
       " 'isspace',\n",
       " 'istitle',\n",
       " 'isupper',\n",
       " 'join',\n",
       " 'ljust',\n",
       " 'lower',\n",
       " 'lstrip',\n",
       " 'maketrans',\n",
       " 'partition',\n",
       " 'removeprefix',\n",
       " 'removesuffix',\n",
       " 'replace',\n",
       " 'rfind',\n",
       " 'rindex',\n",
       " 'rjust',\n",
       " 'rpartition',\n",
       " 'rsplit',\n",
       " 'rstrip',\n",
       " 'split',\n",
       " 'splitlines',\n",
       " 'startswith',\n",
       " 'strip',\n",
       " 'swapcase',\n",
       " 'title',\n",
       " 'translate',\n",
       " 'upper',\n",
       " 'zfill']"
      ]
     },
     "execution_count": 1,
     "metadata": {},
     "output_type": "execute_result"
    }
   ],
   "source": [
    "dir(str) # Following are methods of Strings in python"
   ]
  },
  {
   "cell_type": "code",
   "execution_count": 3,
   "id": "7aa330cd",
   "metadata": {},
   "outputs": [
    {
     "name": "stdout",
     "output_type": "stream",
     "text": [
      "Help on method_descriptor:\n",
      "\n",
      "capitalize(self, /)\n",
      "    Return a capitalized version of the string.\n",
      "    \n",
      "    More specifically, make the first character have upper case and the rest lower\n",
      "    case.\n",
      "\n"
     ]
    }
   ],
   "source": [
    "help(str.capitalize) # using help function we can know the description of capitalize method in sting"
   ]
  },
  {
   "cell_type": "markdown",
   "id": "9dda24eb",
   "metadata": {},
   "source": [
    "## 1. Capitalize()\n",
    "\n",
    "### The capitalize() method is used to capitalize the first character into upper case and the rest lowercase.\n",
    "\n",
    "Example:"
   ]
  },
  {
   "cell_type": "code",
   "execution_count": 5,
   "id": "7fbf4417",
   "metadata": {},
   "outputs": [
    {
     "name": "stdout",
     "output_type": "stream",
     "text": [
      "Original String: hey this is shiva\n",
      "Capitalized String: Hey this is shiva\n"
     ]
    }
   ],
   "source": [
    "original_string = \"hey this is shiva\"\n",
    "capitalized_string = original_string.capitalize()\n",
    "\n",
    "print(\"Original String:\", original_string)\n",
    "print(\"Capitalized String:\", capitalized_string)"
   ]
  },
  {
   "cell_type": "code",
   "execution_count": 7,
   "id": "d99e944d",
   "metadata": {},
   "outputs": [
    {
     "name": "stdout",
     "output_type": "stream",
     "text": [
      "Help on method_descriptor:\n",
      "\n",
      "casefold(self, /)\n",
      "    Return a version of the string suitable for caseless comparisons.\n",
      "\n"
     ]
    }
   ],
   "source": [
    "help(str.casefold)"
   ]
  },
  {
   "cell_type": "markdown",
   "id": "ecf821e4",
   "metadata": {},
   "source": [
    "## 2. Casefold()\n",
    "\n",
    "### The casefold() method is used to perform a case-folding operation on a string, which is similar to converting the string to lowercase.\n",
    "\n",
    "Example:"
   ]
  },
  {
   "cell_type": "code",
   "execution_count": 22,
   "id": "739e2569",
   "metadata": {},
   "outputs": [
    {
     "data": {
      "text/plain": [
       "'shivä'"
      ]
     },
     "execution_count": 22,
     "metadata": {},
     "output_type": "execute_result"
    }
   ],
   "source": [
    "text = \"ShivÄ\"\n",
    "text.casefold()"
   ]
  },
  {
   "cell_type": "code",
   "execution_count": 23,
   "id": "1bd04f9a",
   "metadata": {},
   "outputs": [
    {
     "name": "stdout",
     "output_type": "stream",
     "text": [
      "Help on method_descriptor:\n",
      "\n",
      "count(...)\n",
      "    S.count(sub[, start[, end]]) -> int\n",
      "    \n",
      "    Return the number of non-overlapping occurrences of substring sub in\n",
      "    string S[start:end].  Optional arguments start and end are\n",
      "    interpreted as in slice notation.\n",
      "\n"
     ]
    }
   ],
   "source": [
    "help(str.count)"
   ]
  },
  {
   "cell_type": "markdown",
   "id": "e00f6224",
   "metadata": {},
   "source": [
    "## 3.Count()\n",
    "### The count method is used to count the number of occurrences of a specified element in a list or another iterable, such as a string.\n",
    "\n",
    "Example:"
   ]
  },
  {
   "cell_type": "code",
   "execution_count": 1,
   "id": "eb302d5e",
   "metadata": {},
   "outputs": [
    {
     "name": "stdout",
     "output_type": "stream",
     "text": [
      "Number of twos in the list: 4\n"
     ]
    }
   ],
   "source": [
    "my_list = [1, 2, 2, 3, 4, 2, 5, 2]\n",
    "count_of_twos = my_list.count(2)\n",
    "print(\"Number of twos in the list:\", count_of_twos)  # Example 1 using Numericals"
   ]
  },
  {
   "cell_type": "code",
   "execution_count": 13,
   "id": "9416b2e9",
   "metadata": {},
   "outputs": [
    {
     "name": "stdout",
     "output_type": "stream",
     "text": [
      "Number of 'o's in the string: 4\n"
     ]
    }
   ],
   "source": [
    "my_string = \"Shiva, how are you doing today?\"\n",
    "count_of_letter_o = my_string.count(\"o\")\n",
    "print(\"Number of 'o's in the string:\", count_of_letter_o) # Example 2 using String"
   ]
  },
  {
   "cell_type": "code",
   "execution_count": 3,
   "id": "b1f37307",
   "metadata": {},
   "outputs": [
    {
     "name": "stdout",
     "output_type": "stream",
     "text": [
      "Help on method_descriptor:\n",
      "\n",
      "find(...)\n",
      "    S.find(sub[, start[, end]]) -> int\n",
      "    \n",
      "    Return the lowest index in S where substring sub is found,\n",
      "    such that sub is contained within S[start:end].  Optional\n",
      "    arguments start and end are interpreted as in slice notation.\n",
      "    \n",
      "    Return -1 on failure.\n",
      "\n"
     ]
    }
   ],
   "source": [
    "help(str.find)"
   ]
  },
  {
   "cell_type": "markdown",
   "id": "7093be3d",
   "metadata": {},
   "source": [
    "## 4. find()\n",
    "### The find method is used to search for a substring within a string. This method returns the index of the first occurrence of the substring if it is found, and -1 if the substring is not present in the string.\n",
    "\n",
    "<!-- string: The string in which you want to search for the substring.\n",
    "substring: The substring you want to find within the string.\n",
    "start (optional): The index from which the search should begin. It's 0 by default.\n",
    "end (optional): The index at which the search should end. It's the length of the string by default. -->\n",
    "\n",
    "Example:"
   ]
  },
  {
   "cell_type": "code",
   "execution_count": 6,
   "id": "34434128",
   "metadata": {},
   "outputs": [
    {
     "name": "stdout",
     "output_type": "stream",
     "text": [
      "10\n"
     ]
    }
   ],
   "source": [
    "text = \"This is a sample string.\"\n",
    "substring = \"sample\"\n",
    "\n",
    "# Find the index of the first occurrence of \"sample\" in the text\n",
    "index = text.find(substring)\n",
    "print(index)"
   ]
  },
  {
   "cell_type": "code",
   "execution_count": 7,
   "id": "8a83cb93",
   "metadata": {},
   "outputs": [
    {
     "name": "stdout",
     "output_type": "stream",
     "text": [
      "Help on method_descriptor:\n",
      "\n",
      "index(...)\n",
      "    S.index(sub[, start[, end]]) -> int\n",
      "    \n",
      "    Return the lowest index in S where substring sub is found,\n",
      "    such that sub is contained within S[start:end].  Optional\n",
      "    arguments start and end are interpreted as in slice notation.\n",
      "    \n",
      "    Raises ValueError when the substring is not found.\n",
      "\n"
     ]
    }
   ],
   "source": [
    "help(str.index)"
   ]
  },
  {
   "cell_type": "markdown",
   "id": "6f6c7eff",
   "metadata": {},
   "source": [
    "## 5. Index()\n",
    "### The index method is used to find the position of the first occurrence of a specified element within a sequence, If the element is not found, it raises a ValueError exception.\n",
    "\n",
    "Example:"
   ]
  },
  {
   "cell_type": "code",
   "execution_count": 8,
   "id": "bba23926",
   "metadata": {},
   "outputs": [
    {
     "name": "stdout",
     "output_type": "stream",
     "text": [
      "1\n"
     ]
    }
   ],
   "source": [
    "my_list = [10, 20, 30, 40, 20]\n",
    "index = my_list.index(20)\n",
    "print(index)"
   ]
  },
  {
   "cell_type": "code",
   "execution_count": 9,
   "id": "6273f65e",
   "metadata": {},
   "outputs": [
    {
     "ename": "ValueError",
     "evalue": "50 is not in list",
     "output_type": "error",
     "traceback": [
      "\u001b[1;31m---------------------------------------------------------------------------\u001b[0m",
      "\u001b[1;31mValueError\u001b[0m                                Traceback (most recent call last)",
      "Cell \u001b[1;32mIn[9], line 3\u001b[0m\n\u001b[0;32m      1\u001b[0m my_list \u001b[38;5;241m=\u001b[39m [\u001b[38;5;241m10\u001b[39m, \u001b[38;5;241m20\u001b[39m, \u001b[38;5;241m30\u001b[39m, \u001b[38;5;241m40\u001b[39m, \u001b[38;5;241m20\u001b[39m]\n\u001b[0;32m      2\u001b[0m element \u001b[38;5;241m=\u001b[39m \u001b[38;5;241m50\u001b[39m\n\u001b[1;32m----> 3\u001b[0m index \u001b[38;5;241m=\u001b[39m my_list\u001b[38;5;241m.\u001b[39mindex(element)\n",
      "\u001b[1;31mValueError\u001b[0m: 50 is not in list"
     ]
    }
   ],
   "source": [
    "my_list = [10, 20, 30, 40, 20]\n",
    "element = 50\n",
    "index = my_list.index(element)"
   ]
  },
  {
   "cell_type": "code",
   "execution_count": 11,
   "id": "01a21c32",
   "metadata": {},
   "outputs": [
    {
     "name": "stdout",
     "output_type": "stream",
     "text": [
      "Help on method_descriptor:\n",
      "\n",
      "partition(self, sep, /)\n",
      "    Partition the string into three parts using the given separator.\n",
      "    \n",
      "    This will search for the separator in the string.  If the separator is found,\n",
      "    returns a 3-tuple containing the part before the separator, the separator\n",
      "    itself, and the part after it.\n",
      "    \n",
      "    If the separator is not found, returns a 3-tuple containing the original string\n",
      "    and two empty strings.\n",
      "\n"
     ]
    }
   ],
   "source": [
    "help(str.partition)"
   ]
  },
  {
   "cell_type": "markdown",
   "id": "ca31583d",
   "metadata": {},
   "source": [
    "## 6. Partition()\n",
    "### Partition method is used to split a string into three parts based on the occurrence of a specified substring.\n",
    "\n",
    "Example:"
   ]
  },
  {
   "cell_type": "code",
   "execution_count": 14,
   "id": "9bee384d",
   "metadata": {},
   "outputs": [
    {
     "name": "stdout",
     "output_type": "stream",
     "text": [
      "('My name ', 'is', ' Shiva, Joined at Innomatics')\n"
     ]
    }
   ],
   "source": [
    "text = \"My name is Shiva, Joined at Innomatics\"\n",
    "result = text.partition(\"is\")\n",
    "\n",
    "print(result)"
   ]
  },
  {
   "cell_type": "code",
   "execution_count": 15,
   "id": "e31f7281",
   "metadata": {},
   "outputs": [
    {
     "name": "stdout",
     "output_type": "stream",
     "text": [
      "Help on method_descriptor:\n",
      "\n",
      "replace(self, old, new, count=-1, /)\n",
      "    Return a copy with all occurrences of substring old replaced by new.\n",
      "    \n",
      "      count\n",
      "        Maximum number of occurrences to replace.\n",
      "        -1 (the default value) means replace all occurrences.\n",
      "    \n",
      "    If the optional argument count is given, only the first count occurrences are\n",
      "    replaced.\n",
      "\n"
     ]
    }
   ],
   "source": [
    "help(str.replace)"
   ]
  },
  {
   "cell_type": "markdown",
   "id": "a82dc1b2",
   "metadata": {},
   "source": [
    "## 7. Replace()\n",
    "###  replace method to replace occurrences of a substring in a string with another substring.\n",
    "\n",
    "Example:"
   ]
  },
  {
   "cell_type": "code",
   "execution_count": 16,
   "id": "54f471c6",
   "metadata": {},
   "outputs": [
    {
     "name": "stdout",
     "output_type": "stream",
     "text": [
      "I love programming in Java. Java is great!\n"
     ]
    }
   ],
   "source": [
    "original_string = \"I love programming in Python. Python is great!\"\n",
    "new_string = original_string.replace(\"Python\", \"Java\")\n",
    "print(new_string)"
   ]
  },
  {
   "cell_type": "code",
   "execution_count": 17,
   "id": "056e5318",
   "metadata": {},
   "outputs": [
    {
     "name": "stdout",
     "output_type": "stream",
     "text": [
      "Java is easy to learn. Java is powerful. Python is versatile.\n"
     ]
    }
   ],
   "source": [
    "original_string = \"Python is easy to learn. Python is powerful. Python is versatile.\"\n",
    "new_string = original_string.replace(\"Python\", \"Java\", 2)\n",
    "print(new_string)"
   ]
  },
  {
   "cell_type": "code",
   "execution_count": 18,
   "id": "44b7d884",
   "metadata": {},
   "outputs": [
    {
     "name": "stdout",
     "output_type": "stream",
     "text": [
      "Help on method_descriptor:\n",
      "\n",
      "split(self, /, sep=None, maxsplit=-1)\n",
      "    Return a list of the substrings in the string, using sep as the separator string.\n",
      "    \n",
      "      sep\n",
      "        The separator used to split the string.\n",
      "    \n",
      "        When set to None (the default value), will split on any whitespace\n",
      "        character (including \\\\n \\\\r \\\\t \\\\f and spaces) and will discard\n",
      "        empty strings from the result.\n",
      "      maxsplit\n",
      "        Maximum number of splits (starting from the left).\n",
      "        -1 (the default value) means no limit.\n",
      "    \n",
      "    Note, str.split() is mainly useful for data that has been intentionally\n",
      "    delimited.  With natural text that includes punctuation, consider using\n",
      "    the regular expression module.\n",
      "\n"
     ]
    }
   ],
   "source": [
    "help(str.split)"
   ]
  },
  {
   "cell_type": "markdown",
   "id": "761e20d3",
   "metadata": {},
   "source": [
    "## 8. Split()\n",
    "### split method is a built-in string method used to split a string into a list of substrings based on a specified delimiter. The delimiter is typically a character or a sequence of characters used to identify where the string should be split.\n",
    "\n",
    "Example:"
   ]
  },
  {
   "cell_type": "code",
   "execution_count": 23,
   "id": "fc53281d",
   "metadata": {},
   "outputs": [
    {
     "name": "stdout",
     "output_type": "stream",
     "text": [
      "['Shiva', 'Ram']\n",
      "['Shiva', 'Arun', 'Joshi', 'Pravallika', 'Architha']\n",
      "['Shiva', 'Arun', 'Joshi Pravallika Architha']\n",
      "Shiva\n",
      "Arun Joshi Pravallika Architha\n"
     ]
    }
   ],
   "source": [
    "# Using the default separator (whitespace)\n",
    "text = \"Shiva Ram\"\n",
    "words = text.split()\n",
    "print(words)\n",
    "\n",
    "# Using a specific separator\n",
    "csv_data = \"Shiva,Arun,Joshi,Pravallika,Architha\"\n",
    "names = csv_data.split(',')\n",
    "print(names)\n",
    "\n",
    "# Limiting the number of splits\n",
    "text = \"Shiva Arun Joshi Pravallika Architha\"\n",
    "names = text.split(' ', 2)\n",
    "print(names)\n",
    "\n",
    "# Using maxsplit = 1\n",
    "text = \"Shiva Arun Joshi Pravallika Architha\"\n",
    "first_name, remaining = text.split(' ', 1)\n",
    "print(first_name)\n",
    "print(remaining)"
   ]
  },
  {
   "cell_type": "code",
   "execution_count": 22,
   "id": "b145ec23",
   "metadata": {},
   "outputs": [
    {
     "name": "stdout",
     "output_type": "stream",
     "text": [
      "Help on method_descriptor:\n",
      "\n",
      "splitlines(self, /, keepends=False)\n",
      "    Return a list of the lines in the string, breaking at line boundaries.\n",
      "    \n",
      "    Line breaks are not included in the resulting list unless keepends is given and\n",
      "    true.\n",
      "\n"
     ]
    }
   ],
   "source": [
    "help(str.splitlines)"
   ]
  },
  {
   "cell_type": "markdown",
   "id": "a0009b55",
   "metadata": {},
   "source": [
    "## 9. Splitlines()\n",
    "### splitlines() method is used to split a string into a list of lines. Each line is represented as a separate element in the resulting list. This method is particularly useful when working with text data that contains multiple lines, such as a multiline string or the contents of a text file.\n",
    "\n",
    "Example:"
   ]
  },
  {
   "cell_type": "code",
   "execution_count": 36,
   "id": "1b3d93c8",
   "metadata": {},
   "outputs": [
    {
     "name": "stdout",
     "output_type": "stream",
     "text": [
      "['This is a sample', 'multiline string.', 'With three lines.']\n"
     ]
    }
   ],
   "source": [
    "text = \"This is a sample\\nmultiline string.\\nWith three lines.\"\n",
    "lines = text.splitlines()\n",
    "print(lines)"
   ]
  },
  {
   "cell_type": "code",
   "execution_count": 37,
   "id": "f61aec60",
   "metadata": {},
   "outputs": [
    {
     "name": "stdout",
     "output_type": "stream",
     "text": [
      "['This is a sample\\n', 'multiline string.\\n', 'With three lines.']\n"
     ]
    }
   ],
   "source": [
    "text = \"This is a sample\\nmultiline string.\\nWith three lines.\"\n",
    "lines = text.splitlines(True)\n",
    "print(lines)"
   ]
  },
  {
   "cell_type": "code",
   "execution_count": 38,
   "id": "2b6cc5e4",
   "metadata": {},
   "outputs": [
    {
     "name": "stdout",
     "output_type": "stream",
     "text": [
      "Help on method_descriptor:\n",
      "\n",
      "swapcase(self, /)\n",
      "    Convert uppercase characters to lowercase and lowercase characters to uppercase.\n",
      "\n"
     ]
    }
   ],
   "source": [
    "help(str.swapcase)"
   ]
  },
  {
   "cell_type": "markdown",
   "id": "d0a7d86f",
   "metadata": {},
   "source": [
    "## 10. Swapcase()\n",
    "### swapcase method is used to change the case of each character in a given string. It converts lowercase characters to uppercase and vice versa while leaving any non-alphabetical characters unchanged.\n",
    "\n",
    "Example:"
   ]
  },
  {
   "cell_type": "code",
   "execution_count": 40,
   "id": "bccf5c0a",
   "metadata": {},
   "outputs": [
    {
     "name": "stdout",
     "output_type": "stream",
     "text": [
      "sHIVA, rAM\n"
     ]
    }
   ],
   "source": [
    "original_string = \"Shiva, Ram\"\n",
    "swapped_string = original_string.swapcase()\n",
    "print(swapped_string)"
   ]
  },
  {
   "cell_type": "code",
   "execution_count": 42,
   "id": "6e4b40a5",
   "metadata": {},
   "outputs": [
    {
     "name": "stdout",
     "output_type": "stream",
     "text": [
      "Help on method_descriptor:\n",
      "\n",
      "title(self, /)\n",
      "    Return a version of the string where each word is titlecased.\n",
      "    \n",
      "    More specifically, words start with uppercased characters and all remaining\n",
      "    cased characters have lower case.\n",
      "\n"
     ]
    }
   ],
   "source": [
    "help(str.title)"
   ]
  },
  {
   "cell_type": "markdown",
   "id": "21b11b78",
   "metadata": {},
   "source": [
    "## 11. title()\n",
    "### title is used to convert a string's first character in each word to uppercase (title case), while converting all other characters to lowercase. It does not modify the original string; instead, it returns a new string with the desired capitalization.\n",
    "\n",
    "Example:"
   ]
  },
  {
   "cell_type": "code",
   "execution_count": 44,
   "id": "b479c53f",
   "metadata": {},
   "outputs": [
    {
     "name": "stdout",
     "output_type": "stream",
     "text": [
      "Shiva Ram\n"
     ]
    }
   ],
   "source": [
    "text = \"shiva ram\"\n",
    "title_text = text.title()\n",
    "\n",
    "print(title_text)"
   ]
  },
  {
   "cell_type": "code",
   "execution_count": 1,
   "id": "e3e611ad",
   "metadata": {},
   "outputs": [
    {
     "name": "stdout",
     "output_type": "stream",
     "text": [
      "Help on method_descriptor:\n",
      "\n",
      "upper(self, /)\n",
      "    Return a copy of the string converted to uppercase.\n",
      "\n"
     ]
    }
   ],
   "source": [
    "help(str.upper)"
   ]
  },
  {
   "cell_type": "markdown",
   "id": "6a0f772d",
   "metadata": {},
   "source": [
    "## 12. Upper()\n",
    "### upper is used to convert lower case letters into upper case\n",
    "\n",
    "Example:"
   ]
  },
  {
   "cell_type": "code",
   "execution_count": 3,
   "id": "86189d22",
   "metadata": {},
   "outputs": [
    {
     "name": "stdout",
     "output_type": "stream",
     "text": [
      "SHIVA RAM\n"
     ]
    }
   ],
   "source": [
    "text = \"shiva ram\"\n",
    "upper_text = text.upper()\n",
    "\n",
    "print(upper_text)"
   ]
  },
  {
   "cell_type": "code",
   "execution_count": 1,
   "id": "7657d750",
   "metadata": {},
   "outputs": [
    {
     "name": "stdout",
     "output_type": "stream",
     "text": [
      "Help on method_descriptor:\n",
      "\n",
      "center(self, width, fillchar=' ', /)\n",
      "    Return a centered string of length width.\n",
      "    \n",
      "    Padding is done using the specified fill character (default is a space).\n",
      "\n"
     ]
    }
   ],
   "source": [
    "help(str.center)"
   ]
  },
  {
   "cell_type": "markdown",
   "id": "0f2ae21d",
   "metadata": {},
   "source": [
    "## 13. Center()\n",
    "### the center(width, fillchar) method is used to center-align a string within a specified width, padding it with a specified character (or space by default) on both sides to fill the width.\n",
    "\n",
    "### width: The total width of the resulting centered string.\n",
    "### fillchar (optional): The character used for padding. It defaults to a space if not provided.\n",
    "\n",
    "Example:"
   ]
  },
  {
   "cell_type": "code",
   "execution_count": 3,
   "id": "8a1e2795",
   "metadata": {},
   "outputs": [
    {
     "name": "stdout",
     "output_type": "stream",
     "text": [
      "**Shiva***\n"
     ]
    }
   ],
   "source": [
    "text = \"Shiva\"\n",
    "centered_text = text.center(10, '*')\n",
    "\n",
    "print(centered_text)"
   ]
  },
  {
   "cell_type": "markdown",
   "id": "b60fa044",
   "metadata": {},
   "source": [
    "In this example:\n",
    "\n",
    "text is the original string, which is \"shiva.\" centered_text is the result of using the center method with a width of 10 and the fill character '*' specified. The result will center-align \"Shiva\" within a string of total width 10, and it will pad the left and right sides with '*' characters.\n",
    "\n",
    "As you can see, the center method centered the original string \"Shiva\" within a width of 10 characters and used '*' characters for padding. You can adjust the width and fill character to meet your specific formatting needs."
   ]
  },
  {
   "cell_type": "code",
   "execution_count": 4,
   "id": "80fc0fb0",
   "metadata": {},
   "outputs": [
    {
     "name": "stdout",
     "output_type": "stream",
     "text": [
      "Help on method_descriptor:\n",
      "\n",
      "encode(self, /, encoding='utf-8', errors='strict')\n",
      "    Encode the string using the codec registered for encoding.\n",
      "    \n",
      "    encoding\n",
      "      The encoding in which to encode the string.\n",
      "    errors\n",
      "      The error handling scheme to use for encoding errors.\n",
      "      The default is 'strict' meaning that encoding errors raise a\n",
      "      UnicodeEncodeError.  Other possible values are 'ignore', 'replace' and\n",
      "      'xmlcharrefreplace' as well as any other name registered with\n",
      "      codecs.register_error that can handle UnicodeEncodeErrors.\n",
      "\n"
     ]
    }
   ],
   "source": [
    "help(str.encode)"
   ]
  },
  {
   "cell_type": "markdown",
   "id": "417e0294",
   "metadata": {},
   "source": [
    "## 14. encode()\n",
    "### the encode() method is used to encode a string into a specific character encoding, typically to convert a Unicode string into a bytes object that can be written to a file or transmitted over a network. The method returns a bytes object containing the encoded version of the string.\n",
    "\n",
    "Example:"
   ]
  },
  {
   "cell_type": "code",
   "execution_count": 14,
   "id": "8a13d8ad",
   "metadata": {},
   "outputs": [
    {
     "name": "stdout",
     "output_type": "stream",
     "text": [
      "b'Shiva, Ram \\xe4\\xbd\\xa0\\xe5\\xa5\\xbd\\xef\\xbc\\x8c\\xe4\\xb8\\x96\\xe7\\x95\\x8c'\n"
     ]
    }
   ],
   "source": [
    "# Define a Unicode string\n",
    "text = \"Shiva, Ram 你好，世界\"\n",
    "\n",
    "# Encode the string into UTF-8 encoding\n",
    "encoded_text = text.encode('utf-8')\n",
    "\n",
    "# Print the encoded bytes\n",
    "print(encoded_text)"
   ]
  },
  {
   "cell_type": "markdown",
   "id": "d9e07db5",
   "metadata": {},
   "source": [
    "In this example:\n",
    "\n",
    "We have a Unicode string text that contains both English and Chinese characters.\n",
    "\n",
    "We use the encode() method with the argument 'utf-8' to encode the string into UTF-8 encoding, which is a widely used character encoding for representing text in a form that's compatible with a wide range of systems and applications.\n",
    "\n",
    "The encoded_text variable will now contain the bytes representing the encoded string. If you print encoded_text, you'll see the following output (the actual byte values may differ):\n",
    "\n",
    "In the output, you can see the bytes representation of the original string, where English characters are represented as-is, and the Chinese characters are encoded in a multi-byte format as per the UTF-8 encoding.\n"
   ]
  },
  {
   "cell_type": "code",
   "execution_count": 6,
   "id": "3ee4cc06",
   "metadata": {},
   "outputs": [
    {
     "name": "stdout",
     "output_type": "stream",
     "text": [
      "Help on method_descriptor:\n",
      "\n",
      "startswith(...)\n",
      "    S.startswith(prefix[, start[, end]]) -> bool\n",
      "    \n",
      "    Return True if S starts with the specified prefix, False otherwise.\n",
      "    With optional start, test S beginning at that position.\n",
      "    With optional end, stop comparing S at that position.\n",
      "    prefix can also be a tuple of strings to try.\n",
      "\n"
     ]
    }
   ],
   "source": [
    "help(str.startswith)"
   ]
  },
  {
   "cell_type": "markdown",
   "id": "191c64ed",
   "metadata": {},
   "source": [
    "## 15. Startswith()\n",
    "### In Python, the startswith() method is used to check if a string starts with a specified prefix. It returns True if the string starts with the given prefix, and False otherwise. Here's the syntax:\n",
    "\n",
    "### str.startswith(prefix, start, end)\n",
    "\n",
    "prefix: The substring you want to check for at the beginning of the string.\n",
    "start (optional): The starting index for the check (default is 0).\n",
    "end (optional): The ending index for the check (default is the length of the string).\n",
    "Here's an example of how to use the startswith() method:"
   ]
  },
  {
   "cell_type": "code",
   "execution_count": 13,
   "id": "388288b6",
   "metadata": {},
   "outputs": [
    {
     "name": "stdout",
     "output_type": "stream",
     "text": [
      "True\n",
      "False\n"
     ]
    }
   ],
   "source": [
    " # Check if the string starts with \"Shiva\"\n",
    "text = \"Shiva, Ram\"\n",
    "result = text.startswith(\"Shiva\")\n",
    "print(result)\n",
    "\n",
    "# Check if the string starts with \"Ram\"\n",
    "result = text.startswith(\"Ram\")\n",
    "print(result)"
   ]
  },
  {
   "cell_type": "markdown",
   "id": "f337ce4d",
   "metadata": {},
   "source": [
    "In this example, the startswith() method is used to determine whether the string text starts with the prefixes \"Hello\" and \"World.\" The first check returns True because \"Hello\" is indeed at the beginning of the string, while the second check returns False because \"World\" does not start the string.\n",
    "\n",
    "You can also specify the optional start and end parameters to check for prefixes within a specific range of the string:"
   ]
  },
  {
   "cell_type": "code",
   "execution_count": 16,
   "id": "f168547f",
   "metadata": {},
   "outputs": [
    {
     "name": "stdout",
     "output_type": "stream",
     "text": [
      "True\n"
     ]
    }
   ],
   "source": [
    "text = \"Shiva, Ram\"\n",
    "# Check if the substring from index 7 to 10 starts with \"Ram\"\n",
    "result = text.startswith(\"Ram\", 7, 10)\n",
    "print(result)"
   ]
  },
  {
   "cell_type": "markdown",
   "id": "ef91e80d",
   "metadata": {},
   "source": [
    "In this case, the startswith() method only considers the substring \"World\" within the indices 7 to 10, which does start with \"Ram,\" so it returns True."
   ]
  },
  {
   "cell_type": "code",
   "execution_count": 10,
   "id": "2302b123",
   "metadata": {},
   "outputs": [
    {
     "name": "stdout",
     "output_type": "stream",
     "text": [
      "Help on method_descriptor:\n",
      "\n",
      "endswith(...)\n",
      "    S.endswith(suffix[, start[, end]]) -> bool\n",
      "    \n",
      "    Return True if S ends with the specified suffix, False otherwise.\n",
      "    With optional start, test S beginning at that position.\n",
      "    With optional end, stop comparing S at that position.\n",
      "    suffix can also be a tuple of strings to try.\n",
      "\n"
     ]
    }
   ],
   "source": [
    "help(str.endswith)"
   ]
  },
  {
   "cell_type": "markdown",
   "id": "68509039",
   "metadata": {},
   "source": [
    "## 16. endswith()\n",
    "###  The endswith() method in Python is used to check if a string ends with a specified suffix (a sequence of characters). It returns True if the string ends with the specified suffix, and False otherwise. Here's the syntax of the endswith() method:\n",
    "\n",
    "str.endswith(suffix, start, end)\n",
    "\n",
    "suffix: The substring you want to check for at the end of the string.\n",
    "start (optional): The start index for slicing the string. The search for the suffix starts at this position.\n",
    "end (optional): The end index for slicing the string. The search for the suffix ends at this position.\n",
    "Here's an example of how to use the endswith() method:"
   ]
  },
  {
   "cell_type": "code",
   "execution_count": 19,
   "id": "d4b5aafb",
   "metadata": {},
   "outputs": [
    {
     "name": "stdout",
     "output_type": "stream",
     "text": [
      "True\n",
      "False\n",
      "True\n"
     ]
    }
   ],
   "source": [
    "text = \"Shiva, Ram\"\n",
    "\n",
    "# Check if the string ends with \"Ram\"\n",
    "result = text.endswith(\"Ram\")\n",
    "print(result)\n",
    "\n",
    "# Check if the string ends with \"Shiva\"\n",
    "result = text.endswith(\"Shiva\")\n",
    "print(result)\n",
    "\n",
    "# You can also specify a slice to check within a specific portion of the string.\n",
    "# Check if the characters from index 7 to 10 (inclusive) spell \"Ram\"\n",
    "result = text.endswith(\"Ram\", 7, 11)\n",
    "print(result)"
   ]
  },
  {
   "cell_type": "markdown",
   "id": "b9c0595a",
   "metadata": {},
   "source": [
    "In the examples above, we use the endswith() method to check if the text string ends with specific suffixes. The method returns True when the specified suffix is found at the end of the string and False otherwise."
   ]
  },
  {
   "cell_type": "code",
   "execution_count": 20,
   "id": "6d1e1140",
   "metadata": {},
   "outputs": [
    {
     "name": "stdout",
     "output_type": "stream",
     "text": [
      "Help on method_descriptor:\n",
      "\n",
      "expandtabs(self, /, tabsize=8)\n",
      "    Return a copy where all tab characters are expanded using spaces.\n",
      "    \n",
      "    If tabsize is not given, a tab size of 8 characters is assumed.\n",
      "\n"
     ]
    }
   ],
   "source": [
    "help(str.expandtabs)"
   ]
  },
  {
   "cell_type": "markdown",
   "id": "ff4c10ad",
   "metadata": {},
   "source": [
    "## 17. expandtabs()\n",
    "### The expandtabs() method in Python is used to replace tab characters (\\t) in a string with a specified number of spaces. It is often used when you want to format text with consistent indentation, as it allows you to control the width of the tab stops. The expandtabs() method takes an optional argument, which specifies the number of spaces to replace each tab with. If no argument is provided, it defaults to 8 spaces.\n",
    "\n",
    "Here's the syntax of the expandtabs() method:\n",
    "\n",
    "string.expandtabs([tabsize])\n",
    "string: The original string that you want to process.\n",
    "tabsize (optional): The number of spaces to replace each tab character. If not provided, it defaults to 8.\n",
    "Here's an example to illustrate how to use the expandtabs() method:"
   ]
  },
  {
   "cell_type": "code",
   "execution_count": 22,
   "id": "5e11be93",
   "metadata": {},
   "outputs": [
    {
     "name": "stdout",
     "output_type": "stream",
     "text": [
      "My      name    is      shiva   with    brand.\n",
      "My  name    is  shiva   with    brand.\n"
     ]
    }
   ],
   "source": [
    "text = \"My\\tname\\tis\\tshiva\\twith\\tbrand.\"\n",
    "\n",
    "# Using expandtabs() without an argument (default tab size of 8 spaces)\n",
    "result_default = text.expandtabs()\n",
    "print(result_default)\n",
    "\n",
    "# Using expandtabs() with a custom tab size (e.g., 4 spaces)\n",
    "result_custom = text.expandtabs(4)\n",
    "print(result_custom)"
   ]
  },
  {
   "cell_type": "markdown",
   "id": "5416d49b",
   "metadata": {},
   "source": [
    "In the example above, the expandtabs() method replaces the tab characters (\\t) in the text variable with spaces. In the first case, it uses the default tab size of 8 spaces, and in the second case, it uses a custom tab size of 4 spaces. This can be especially useful when you want to format text or align columns in a more readable way, such as when working with data or generating reports."
   ]
  },
  {
   "cell_type": "code",
   "execution_count": 23,
   "id": "dccfe826",
   "metadata": {},
   "outputs": [
    {
     "name": "stdout",
     "output_type": "stream",
     "text": [
      "Help on method_descriptor:\n",
      "\n",
      "format(...)\n",
      "    S.format(*args, **kwargs) -> str\n",
      "    \n",
      "    Return a formatted version of S, using substitutions from args and kwargs.\n",
      "    The substitutions are identified by braces ('{' and '}').\n",
      "\n"
     ]
    }
   ],
   "source": [
    "help(str.format)"
   ]
  },
  {
   "cell_type": "markdown",
   "id": "95a86292",
   "metadata": {},
   "source": [
    "## 18. format()\n",
    "### The format() method is a powerful tool that allows developers to create formatted strings by embedding variables and values into placeholders within a template string. This method offers a flexible and versatile way to construct textual output for a wide range of applications. Python string format() function has been introduced for handling complex string formatting more efficiently. Sometimes we want to make generalized print statements in that case instead of writing print statements every time we use the concept of formatting.\n",
    "\n",
    "Syntax: { }.format(value)\n",
    "\n",
    "Parameters:\n",
    "value : Can be an integer, floating point numeric constant, string, characters or even variables.\n",
    "Returntype: Returns a formatted string with the value passed as parameter in the placeholder position.\n",
    "\n",
    "Example:"
   ]
  },
  {
   "cell_type": "code",
   "execution_count": 39,
   "id": "4ebc8fca",
   "metadata": {},
   "outputs": [
    {
     "name": "stdout",
     "output_type": "stream",
     "text": [
      "Hi,Shiva Ram\n"
     ]
    }
   ],
   "source": [
    "name = \"Shiva Ram\"\n",
    "print(f\"Hi,{name}\")"
   ]
  },
  {
   "cell_type": "code",
   "execution_count": 24,
   "id": "e87854da",
   "metadata": {},
   "outputs": [
    {
     "name": "stdout",
     "output_type": "stream",
     "text": [
      "Help on method_descriptor:\n",
      "\n",
      "format_map(...)\n",
      "    S.format_map(mapping) -> str\n",
      "    \n",
      "    Return a formatted version of S, using substitutions from mapping.\n",
      "    The substitutions are identified by braces ('{' and '}').\n",
      "\n"
     ]
    }
   ],
   "source": [
    "help(str.format_map)"
   ]
  },
  {
   "cell_type": "markdown",
   "id": "84f4a2f2",
   "metadata": {},
   "source": [
    "## 19. format_map()\n",
    "### format_map() method is an inbuilt function , which is used to return a dictionary key’s value.\n",
    "\n",
    "Syntax: string.format_map(z)\n",
    "\n",
    "Parameters:\n",
    "Here z is a variable in which the input dictionary is stored and string is the key of the input dictionary.\n",
    "input_dict: Takes a single parameter which is the input dictionary.\n",
    "Returns:Returns key’s values of the input dictionary.\n",
    "\n",
    "Example:"
   ]
  },
  {
   "cell_type": "code",
   "execution_count": 41,
   "id": "70bf1dc2",
   "metadata": {},
   "outputs": [
    {
     "name": "stdout",
     "output_type": "stream",
     "text": [
      "Shiva's first name is Shiva\n"
     ]
    }
   ],
   "source": [
    "a = {'x':'Shiva', 'y':'Ram'} \n",
    "print(\"{x}'s first name is {x}\".format_map(a))"
   ]
  },
  {
   "cell_type": "code",
   "execution_count": 25,
   "id": "93c6790e",
   "metadata": {},
   "outputs": [
    {
     "name": "stdout",
     "output_type": "stream",
     "text": [
      "Help on method_descriptor:\n",
      "\n",
      "isalnum(self, /)\n",
      "    Return True if the string is an alpha-numeric string, False otherwise.\n",
      "    \n",
      "    A string is alpha-numeric if all characters in the string are alpha-numeric and\n",
      "    there is at least one character in the string.\n",
      "\n"
     ]
    }
   ],
   "source": [
    "help(str.isalnum)"
   ]
  },
  {
   "cell_type": "markdown",
   "id": "8c476d0c",
   "metadata": {},
   "source": [
    "## 20. isalnum()\n",
    "### isalnum() method checks whether all the characters in a given string are either alphabet or numeric (alphanumeric) characters.\n",
    "\n",
    "Syntax: string_name.isalnum()\n",
    "\n",
    "Parameter:\n",
    "isalnum() method takes no parameters\n",
    "\n",
    "Return:\n",
    "True: If all the characters are alphanumeric\n",
    "False: If one or more characters are not alphanumeric"
   ]
  },
  {
   "cell_type": "code",
   "execution_count": 49,
   "id": "e15bdc85",
   "metadata": {},
   "outputs": [
    {
     "data": {
      "text/plain": [
       "True"
      ]
     },
     "execution_count": 49,
     "metadata": {},
     "output_type": "execute_result"
    }
   ],
   "source": [
    "a= '1234abcde'\n",
    "a.isalnum()"
   ]
  },
  {
   "cell_type": "code",
   "execution_count": 50,
   "id": "cd37f7c7",
   "metadata": {},
   "outputs": [
    {
     "data": {
      "text/plain": [
       "True"
      ]
     },
     "execution_count": 50,
     "metadata": {},
     "output_type": "execute_result"
    }
   ],
   "source": [
    "b= '12534'\n",
    "b.isalnum()"
   ]
  },
  {
   "cell_type": "code",
   "execution_count": 51,
   "id": "911b9a3c",
   "metadata": {},
   "outputs": [
    {
     "data": {
      "text/plain": [
       "False"
      ]
     },
     "execution_count": 51,
     "metadata": {},
     "output_type": "execute_result"
    }
   ],
   "source": [
    "c= '12324 abcd'\n",
    "c.isalnum()"
   ]
  },
  {
   "cell_type": "code",
   "execution_count": 26,
   "id": "8c8c5a6b",
   "metadata": {},
   "outputs": [
    {
     "name": "stdout",
     "output_type": "stream",
     "text": [
      "Help on method_descriptor:\n",
      "\n",
      "isalpha(self, /)\n",
      "    Return True if the string is an alphabetic string, False otherwise.\n",
      "    \n",
      "    A string is alphabetic if all characters in the string are alphabetic and there\n",
      "    is at least one character in the string.\n",
      "\n"
     ]
    }
   ],
   "source": [
    "help(str.isalpha)"
   ]
  },
  {
   "cell_type": "markdown",
   "id": "28b92685",
   "metadata": {},
   "source": [
    "## 21. isalpha()\n",
    "### isalpha() method is used to check whether all characters in the String are an alphabet.\n",
    "\n",
    "Syntax: string.isalpha()\n",
    "\n",
    "Parameters:\n",
    "isalpha() does not take any parameters\n",
    "\n",
    "Returns:\n",
    "True: If all characters in the string are alphabet.\n",
    "False: If the string contains 1 or more non-alphabets.\n",
    "\n",
    "Errors and Exceptions:\n",
    "It contains no arguments, therefore an error occurs if a parameter is passed\n",
    "Both uppercase and lowercase alphabets return “True”\n",
    "Space is not considered to be the alphabet, therefore it returns “False”"
   ]
  },
  {
   "cell_type": "code",
   "execution_count": 55,
   "id": "e570c6ed",
   "metadata": {},
   "outputs": [
    {
     "data": {
      "text/plain": [
       "True"
      ]
     },
     "execution_count": 55,
     "metadata": {},
     "output_type": "execute_result"
    }
   ],
   "source": [
    "'Shivafromshadnagar'.isalpha()"
   ]
  },
  {
   "cell_type": "code",
   "execution_count": 56,
   "id": "2e56658d",
   "metadata": {},
   "outputs": [
    {
     "data": {
      "text/plain": [
       "False"
      ]
     },
     "execution_count": 56,
     "metadata": {},
     "output_type": "execute_result"
    }
   ],
   "source": [
    "'Shiva from Shadnagar'.isalpha()"
   ]
  },
  {
   "cell_type": "code",
   "execution_count": 27,
   "id": "8c715a14",
   "metadata": {},
   "outputs": [
    {
     "name": "stdout",
     "output_type": "stream",
     "text": [
      "Help on method_descriptor:\n",
      "\n",
      "isascii(self, /)\n",
      "    Return True if all characters in the string are ASCII, False otherwise.\n",
      "    \n",
      "    ASCII characters have code points in the range U+0000-U+007F.\n",
      "    Empty string is ASCII too.\n",
      "\n"
     ]
    }
   ],
   "source": [
    "help(str.isascii)"
   ]
  },
  {
   "cell_type": "markdown",
   "id": "a71bcefb",
   "metadata": {},
   "source": [
    "## 22. isascii()\n",
    "### isascii() method checks if all characters in a given Python string are ASCII characters. If they are, it returns True; otherwise, it returns False.\n",
    "\n",
    "Syntax:str.isascii()\n",
    "The str is the Python string on which the operation is going to be held.\n",
    "\n",
    "Parameters:\n",
    "The Python string isascii method doesn’t accept any parameters.\n",
    "\n",
    "Return value:\n",
    "The Python isascii method in string returns: Boolean value"
   ]
  },
  {
   "cell_type": "code",
   "execution_count": 60,
   "id": "17c9a9e7",
   "metadata": {},
   "outputs": [
    {
     "data": {
      "text/plain": [
       "False"
      ]
     },
     "execution_count": 60,
     "metadata": {},
     "output_type": "execute_result"
    }
   ],
   "source": [
    "text =\"I love python ♥\"\n",
    "text.isascii()"
   ]
  },
  {
   "cell_type": "code",
   "execution_count": 28,
   "id": "b46ab972",
   "metadata": {},
   "outputs": [
    {
     "name": "stdout",
     "output_type": "stream",
     "text": [
      "Help on method_descriptor:\n",
      "\n",
      "isdecimal(self, /)\n",
      "    Return True if the string is a decimal string, False otherwise.\n",
      "    \n",
      "    A string is a decimal string if all characters in the string are decimal and\n",
      "    there is at least one character in the string.\n",
      "\n"
     ]
    }
   ],
   "source": [
    "help(str.isdecimal)"
   ]
  },
  {
   "cell_type": "markdown",
   "id": "0d8e4cfb",
   "metadata": {},
   "source": [
    "## 23. isdecimal() \n",
    "### function returns true if all characters in a string are decimal, else it returns False.\n",
    "\n",
    "Syntax: string_name.isdecimal(), string_name is the string whose characters are to be checked\n",
    "\n",
    "Parameters:\n",
    "This method does not takes any parameters .\n",
    "\n",
    "Return:\n",
    "boolean value. True – all characters are decimal, False – one or more than one character is not decimal."
   ]
  },
  {
   "cell_type": "code",
   "execution_count": 64,
   "id": "84acc0cc",
   "metadata": {},
   "outputs": [
    {
     "data": {
      "text/plain": [
       "(False, True)"
      ]
     },
     "execution_count": 64,
     "metadata": {},
     "output_type": "execute_result"
    }
   ],
   "source": [
    "'3.6'.isdecimal(), '18'.isdecimal()"
   ]
  },
  {
   "cell_type": "code",
   "execution_count": 30,
   "id": "170499bd",
   "metadata": {},
   "outputs": [
    {
     "name": "stdout",
     "output_type": "stream",
     "text": [
      "Help on method_descriptor:\n",
      "\n",
      "isdigit(self, /)\n",
      "    Return True if the string is a digit string, False otherwise.\n",
      "    \n",
      "    A string is a digit string if all characters in the string are digits and there\n",
      "    is at least one character in the string.\n",
      "\n"
     ]
    }
   ],
   "source": [
    "help(str.isdigit)"
   ]
  },
  {
   "cell_type": "markdown",
   "id": "40bbcf22",
   "metadata": {},
   "source": [
    "## 24. isdigit()\n",
    "### isdigit() method returns “True” if all characters in the string are digits, Otherwise, It returns “False”.\n",
    "\n",
    "Syntax: string.isdigit()\n",
    "\n",
    "Parameters:\n",
    "isdigit() does not take any parameters\n",
    "\n",
    "Returns:\n",
    "True – If all characters in the string are digits.\n",
    "False – If the string contains 1 or more non-digits."
   ]
  },
  {
   "cell_type": "code",
   "execution_count": 66,
   "id": "72fe5b69",
   "metadata": {},
   "outputs": [
    {
     "data": {
      "text/plain": [
       "(False, True)"
      ]
     },
     "execution_count": 66,
     "metadata": {},
     "output_type": "execute_result"
    }
   ],
   "source": [
    "'3.6'.isdigit(), '18'.isdigit()"
   ]
  },
  {
   "cell_type": "code",
   "execution_count": 31,
   "id": "3da2e4cf",
   "metadata": {},
   "outputs": [
    {
     "name": "stdout",
     "output_type": "stream",
     "text": [
      "Help on method_descriptor:\n",
      "\n",
      "isidentifier(self, /)\n",
      "    Return True if the string is a valid Python identifier, False otherwise.\n",
      "    \n",
      "    Call keyword.iskeyword(s) to test whether string s is a reserved identifier,\n",
      "    such as \"def\" or \"class\".\n",
      "\n"
     ]
    }
   ],
   "source": [
    "help(str.isidentifier)"
   ]
  },
  {
   "cell_type": "markdown",
   "id": "1b725170",
   "metadata": {},
   "source": [
    "## 25. isidentifier()\n",
    "### isidentifier() method is used to check whether a string is a valid identifier or not. The method returns True if the string is a valid identifier, else returns False.\n",
    "\n",
    "Syntax: string.isidentifier()\n",
    "\n",
    "Parameters:\n",
    "The method does not take any parameters\n",
    "\n",
    "Return Value:\n",
    "The method can return one of the two values:"
   ]
  },
  {
   "cell_type": "code",
   "execution_count": 70,
   "id": "a35ac5cc",
   "metadata": {},
   "outputs": [
    {
     "name": "stdout",
     "output_type": "stream",
     "text": [
      "I love python ♥\n"
     ]
    },
    {
     "data": {
      "text/plain": [
       "(None, False)"
      ]
     },
     "execution_count": 70,
     "metadata": {},
     "output_type": "execute_result"
    }
   ],
   "source": [
    "print(text), text.isidentifier()"
   ]
  },
  {
   "cell_type": "code",
   "execution_count": 73,
   "id": "06b1f93d",
   "metadata": {},
   "outputs": [
    {
     "data": {
      "text/plain": [
       "True"
      ]
     },
     "execution_count": 73,
     "metadata": {},
     "output_type": "execute_result"
    }
   ],
   "source": [
    "d = \"Shiva_264\"\n",
    "d.isidentifier()"
   ]
  },
  {
   "cell_type": "code",
   "execution_count": 32,
   "id": "7cee2c80",
   "metadata": {},
   "outputs": [
    {
     "name": "stdout",
     "output_type": "stream",
     "text": [
      "Help on method_descriptor:\n",
      "\n",
      "islower(self, /)\n",
      "    Return True if the string is a lowercase string, False otherwise.\n",
      "    \n",
      "    A string is lowercase if all cased characters in the string are lowercase and\n",
      "    there is at least one cased character in the string.\n",
      "\n"
     ]
    }
   ],
   "source": [
    "help(str.islower)"
   ]
  },
  {
   "cell_type": "markdown",
   "id": "b0917566",
   "metadata": {},
   "source": [
    "## 26. islower\n",
    "### islower() method checks if all characters in the string are lowercase. This method returns True if all alphabets in a string are lowercase alphabets. If the string contains at least one uppercase alphabet, it returns False.\n",
    "\n",
    "Syntax: string.islower()\n",
    "\n",
    "Returns:\n",
    "True: If all the letters in the string are in lower case and\n",
    "False: If even one of them is in upper case."
   ]
  },
  {
   "cell_type": "code",
   "execution_count": 74,
   "id": "6353a04a",
   "metadata": {},
   "outputs": [
    {
     "data": {
      "text/plain": [
       "False"
      ]
     },
     "execution_count": 74,
     "metadata": {},
     "output_type": "execute_result"
    }
   ],
   "source": [
    "text.islower()"
   ]
  },
  {
   "cell_type": "code",
   "execution_count": 76,
   "id": "d367736b",
   "metadata": {},
   "outputs": [
    {
     "data": {
      "text/plain": [
       "True"
      ]
     },
     "execution_count": 76,
     "metadata": {},
     "output_type": "execute_result"
    }
   ],
   "source": [
    "'shiva'.islower()"
   ]
  },
  {
   "cell_type": "code",
   "execution_count": 33,
   "id": "4a7498fe",
   "metadata": {},
   "outputs": [
    {
     "name": "stdout",
     "output_type": "stream",
     "text": [
      "Help on method_descriptor:\n",
      "\n",
      "isnumeric(self, /)\n",
      "    Return True if the string is a numeric string, False otherwise.\n",
      "    \n",
      "    A string is numeric if all characters in the string are numeric and there is at\n",
      "    least one character in the string.\n",
      "\n"
     ]
    }
   ],
   "source": [
    "help(str.isnumeric)"
   ]
  },
  {
   "cell_type": "markdown",
   "id": "1ffc21d8",
   "metadata": {},
   "source": [
    "## 27. isnumeric()\n",
    "### isnumeric() method is used to determine whether the string consists of numeric characters or not. It returns a Boolean value. If all characters in the string are numeric and it is not empty, it returns “True” If all characters in the string are numeric characters, otherwise returns “False”.\n",
    "\n",
    "Syntax: string.isnumeric()\n",
    "\n",
    "Parameter\n",
    "isnumeric() does not take any parameters\n",
    "\n",
    "Returns :\n",
    "True – If all characters in the string are numeric characters.\n",
    "False – If the string contains 1 or more non-numeric characters."
   ]
  },
  {
   "cell_type": "code",
   "execution_count": 77,
   "id": "1dc6d5c0",
   "metadata": {},
   "outputs": [
    {
     "data": {
      "text/plain": [
       "(True, False)"
      ]
     },
     "execution_count": 77,
     "metadata": {},
     "output_type": "execute_result"
    }
   ],
   "source": [
    "'1234'.isnumeric(), 'lovehyd 2023'.isnumeric()"
   ]
  },
  {
   "cell_type": "code",
   "execution_count": 34,
   "id": "59cd5608",
   "metadata": {},
   "outputs": [
    {
     "name": "stdout",
     "output_type": "stream",
     "text": [
      "Help on method_descriptor:\n",
      "\n",
      "isprintable(self, /)\n",
      "    Return True if the string is printable, False otherwise.\n",
      "    \n",
      "    A string is printable if all of its characters are considered printable in\n",
      "    repr() or if it is empty.\n",
      "\n"
     ]
    }
   ],
   "source": [
    "help(str.isprintable)"
   ]
  },
  {
   "cell_type": "markdown",
   "id": "58fa1f11",
   "metadata": {},
   "source": [
    "## 28. isprintable() \n",
    "### The isprintable() method returns “True” if all characters in the string are printable or the string is empty, Otherwise, It returns “False”.\n",
    "\n",
    "This function is used to check if the argument contains any printable characters such as:\n",
    "Digits ( 0123456789 )\n",
    "Uppercase letters ( ABCDEFGHIJKLMNOPQRSTUVWXYZ )\n",
    "Lowercase letters ( abcdefghijklmnopqrstuvwxyz )\n",
    "Punctuation characters ( !”#$%&'()*+, -./:;?@[]^_`{ | }~ ).\n",
    "Space ( )\n",
    "\n",
    "Syntax: string.isprintable()\n",
    "\n",
    "Parameters:\n",
    "isprintable() does not take any parameters\n",
    "\n",
    "Returns:\n",
    "True – If all characters in the string are printable or the string is empty.\n",
    "False – If the string contains 1 or more nonprintable characters.\n",
    "\n",
    "Errors Or Exceptions:\n",
    "The function does not take any arguments, therefore no parameters should be passed, otherwise, it returns an error.\n",
    "The only whitespace character which is printable is space or ” “, otherwise every whitespace character is non-printable and the function returns “False”.\n",
    "The empty string is considered printable and it returns “True”."
   ]
  },
  {
   "cell_type": "code",
   "execution_count": 82,
   "id": "b254ff7c",
   "metadata": {},
   "outputs": [
    {
     "data": {
      "text/plain": [
       "False"
      ]
     },
     "execution_count": 82,
     "metadata": {},
     "output_type": "execute_result"
    }
   ],
   "source": [
    "a='shiva\\tram'\n",
    "a.isprintable()\n"
   ]
  },
  {
   "cell_type": "code",
   "execution_count": 35,
   "id": "412ffa6b",
   "metadata": {},
   "outputs": [
    {
     "name": "stdout",
     "output_type": "stream",
     "text": [
      "Help on method_descriptor:\n",
      "\n",
      "isspace(self, /)\n",
      "    Return True if the string is a whitespace string, False otherwise.\n",
      "    \n",
      "    A string is whitespace if all characters in the string are whitespace and there\n",
      "    is at least one character in the string.\n",
      "\n"
     ]
    }
   ],
   "source": [
    "help(str.isspace)"
   ]
  },
  {
   "cell_type": "markdown",
   "id": "314863fa",
   "metadata": {},
   "source": [
    "## 29. isspace()\n",
    "### isspace method returns “True” if all characters in the string are whitespace characters, Otherwise, It returns “False”. This function is used to check if the argument contains all whitespace characters, such as:\n",
    "\n",
    "‘ ‘ – Space\n",
    "‘\\t’ – Horizontal tab\n",
    "‘\\n’ – Newline\n",
    "‘\\v’ – Vertical tab\n",
    "‘\\f’ – Feed\n",
    "‘\\r’ – Carriage return\n",
    "\n",
    "Syntax: string.isspace()\n",
    "\n",
    "Returns:\n",
    "True – If all characters in the string are whitespace characters.\n",
    "False – If the string contains 1 or more non-whitespace characters."
   ]
  },
  {
   "cell_type": "code",
   "execution_count": 85,
   "id": "d97ce189",
   "metadata": {},
   "outputs": [
    {
     "data": {
      "text/plain": [
       "False"
      ]
     },
     "execution_count": 85,
     "metadata": {},
     "output_type": "execute_result"
    }
   ],
   "source": [
    "a='Shiva Ram'\n",
    "a.isspace()"
   ]
  },
  {
   "cell_type": "code",
   "execution_count": 84,
   "id": "9bc2954b",
   "metadata": {},
   "outputs": [
    {
     "data": {
      "text/plain": [
       "True"
      ]
     },
     "execution_count": 84,
     "metadata": {},
     "output_type": "execute_result"
    }
   ],
   "source": [
    "a=\"      \"\n",
    "a.isspace()"
   ]
  },
  {
   "cell_type": "code",
   "execution_count": 83,
   "id": "86afc1eb",
   "metadata": {},
   "outputs": [
    {
     "data": {
      "text/plain": [
       "False"
      ]
     },
     "execution_count": 83,
     "metadata": {},
     "output_type": "execute_result"
    }
   ],
   "source": [
    "a='  Shiva Ram'\n",
    "a.isspace()"
   ]
  },
  {
   "cell_type": "code",
   "execution_count": 36,
   "id": "5710b066",
   "metadata": {},
   "outputs": [
    {
     "name": "stdout",
     "output_type": "stream",
     "text": [
      "Help on method_descriptor:\n",
      "\n",
      "istitle(self, /)\n",
      "    Return True if the string is a title-cased string, False otherwise.\n",
      "    \n",
      "    In a title-cased string, upper- and title-case characters may only\n",
      "    follow uncased characters and lowercase characters only cased ones.\n",
      "\n"
     ]
    }
   ],
   "source": [
    "help(str.istitle)"
   ]
  },
  {
   "cell_type": "markdown",
   "id": "4abda62b",
   "metadata": {},
   "source": [
    "## 30. istitle() \n",
    "### istitle() Method is a built-in string function that returns True if all the words in the string are title cased, otherwise returns False.\n",
    "\n",
    "Syntax: string.istitle()\n",
    "\n",
    "Returns:\n",
    "True if the string is a title-cased string otherwise returns False."
   ]
  },
  {
   "cell_type": "code",
   "execution_count": 88,
   "id": "10141b41",
   "metadata": {},
   "outputs": [
    {
     "data": {
      "text/plain": [
       "True"
      ]
     },
     "execution_count": 88,
     "metadata": {},
     "output_type": "execute_result"
    }
   ],
   "source": [
    "\"Shiva Ram\".istitle()"
   ]
  },
  {
   "cell_type": "code",
   "execution_count": 37,
   "id": "ea3553dd",
   "metadata": {},
   "outputs": [
    {
     "name": "stdout",
     "output_type": "stream",
     "text": [
      "Help on method_descriptor:\n",
      "\n",
      "isupper(self, /)\n",
      "    Return True if the string is an uppercase string, False otherwise.\n",
      "    \n",
      "    A string is uppercase if all cased characters in the string are uppercase and\n",
      "    there is at least one cased character in the string.\n",
      "\n"
     ]
    }
   ],
   "source": [
    "help(str.isupper)"
   ]
  },
  {
   "cell_type": "markdown",
   "id": "98b55283",
   "metadata": {},
   "source": [
    "## 31. isupper()\n",
    "### isupper() method returns whether all characters in a string are uppercase or not.\n",
    "\n",
    "Syntax: string.isupper()\n",
    "\n",
    "Returns:\n",
    "True if all the letters in the string are in the upper case and False if even one of them is in the lower case."
   ]
  },
  {
   "cell_type": "code",
   "execution_count": 89,
   "id": "507945e3",
   "metadata": {},
   "outputs": [
    {
     "data": {
      "text/plain": [
       "True"
      ]
     },
     "execution_count": 89,
     "metadata": {},
     "output_type": "execute_result"
    }
   ],
   "source": [
    "'SHIVA'.isupper()"
   ]
  },
  {
   "cell_type": "code",
   "execution_count": 90,
   "id": "515a3932",
   "metadata": {},
   "outputs": [
    {
     "name": "stdout",
     "output_type": "stream",
     "text": [
      "Help on method_descriptor:\n",
      "\n",
      "join(self, iterable, /)\n",
      "    Concatenate any number of strings.\n",
      "    \n",
      "    The string whose method is called is inserted in between each given string.\n",
      "    The result is returned as a new string.\n",
      "    \n",
      "    Example: '.'.join(['ab', 'pq', 'rs']) -> 'ab.pq.rs'\n",
      "\n"
     ]
    }
   ],
   "source": [
    "help(str.join)"
   ]
  },
  {
   "cell_type": "markdown",
   "id": "ac9e628d",
   "metadata": {},
   "source": [
    "## 32. join()\n",
    "### join() is an inbuilt string function in Python used to join elements of the sequence separated by a string separator. This function joins elements of a sequence and makes it a string.\n",
    "\n",
    "Syntax: string_name.join(iterable)\n",
    "\n",
    "Parameters:\n",
    "Iterable – objects capable of returning their members one at a time. Some examples are List, Tuple, String, Dictionary, and Set\n",
    "\n",
    "Return Value:\n",
    "The join() method returns a string concatenated with the elements of iterable.\n",
    "\n",
    "Type Error:\n",
    "If the iterable contains any non-string values, it raises a TypeError exception. ###\n",
    "\n",
    "takes a string and same string is used to join the characters no use of concationation of the strings as we have no need of allocatting seperate values for seprate strings.\n",
    "\n",
    "fevecole to add two papers and not like gatlend stiched round"
   ]
  },
  {
   "cell_type": "code",
   "execution_count": 91,
   "id": "ec0a7e3a",
   "metadata": {},
   "outputs": [
    {
     "data": {
      "text/plain": [
       "'i*##*love*##*to*##*eat*##*fruits'"
      ]
     },
     "execution_count": 91,
     "metadata": {},
     "output_type": "execute_result"
    }
   ],
   "source": [
    "s='i love to eat fruits'\n",
    "\n",
    "h=s.split()\n",
    "\n",
    "h\n",
    "'*##*'.join(h)"
   ]
  },
  {
   "cell_type": "code",
   "execution_count": 92,
   "id": "ef1d5f33",
   "metadata": {},
   "outputs": [
    {
     "name": "stdout",
     "output_type": "stream",
     "text": [
      "Help on method_descriptor:\n",
      "\n",
      "ljust(self, width, fillchar=' ', /)\n",
      "    Return a left-justified string of length width.\n",
      "    \n",
      "    Padding is done using the specified fill character (default is a space).\n",
      "\n"
     ]
    }
   ],
   "source": [
    "help(str.ljust)"
   ]
  },
  {
   "cell_type": "markdown",
   "id": "166efeb1",
   "metadata": {},
   "source": [
    "## 33.ljust()\n",
    "### ljust() method left aligns the string according to the width specified and fills the remaining space of the line with blank space if ‘fillchr‘ argument is not passed.\n",
    "\n",
    "Syntax: ljust(len, fillchr)\n",
    "\n",
    "Parameters:\n",
    "len: The width of string to expand it.\n",
    "fillchr (optional): The character to fill in the remaining space.\n",
    "\n",
    "Return:\n",
    "Returns a new string of given length after substituting a given character in right side of original string."
   ]
  },
  {
   "cell_type": "code",
   "execution_count": 95,
   "id": "ee24454d",
   "metadata": {},
   "outputs": [],
   "source": [
    "d = 'Shiva joined at inno, the caoch is Teaching well'\n",
    "r = d.split()"
   ]
  },
  {
   "cell_type": "code",
   "execution_count": 96,
   "id": "48b1d341",
   "metadata": {},
   "outputs": [
    {
     "data": {
      "text/plain": [
       "'Shiva**joined**at**inno,**the**caoch**is**Teaching**well'"
      ]
     },
     "execution_count": 96,
     "metadata": {},
     "output_type": "execute_result"
    }
   ],
   "source": [
    "'**'.join(r)"
   ]
  },
  {
   "cell_type": "code",
   "execution_count": 97,
   "id": "aa9794f6",
   "metadata": {},
   "outputs": [
    {
     "name": "stdout",
     "output_type": "stream",
     "text": [
      "Help on method_descriptor:\n",
      "\n",
      "lower(self, /)\n",
      "    Return a copy of the string converted to lowercase.\n",
      "\n"
     ]
    }
   ],
   "source": [
    "help(str.lower)"
   ]
  },
  {
   "cell_type": "markdown",
   "id": "9e9257e1",
   "metadata": {},
   "source": [
    "## 34. lower()\n",
    "### lower() method converts all uppercase characters in a string into lowercase characters and returns it.\n",
    "\n",
    "Syntax: string.lower()\n",
    "\n",
    "Parameters:\n",
    "The lower() method doesn’t take any parameters.\n",
    "\n",
    "Returns:\n",
    "Returns a lowercase string of the given string"
   ]
  },
  {
   "cell_type": "code",
   "execution_count": 98,
   "id": "310cb3c0",
   "metadata": {},
   "outputs": [
    {
     "data": {
      "text/plain": [
       "'shiva'"
      ]
     },
     "execution_count": 98,
     "metadata": {},
     "output_type": "execute_result"
    }
   ],
   "source": [
    "'shiva'.lower()"
   ]
  },
  {
   "cell_type": "code",
   "execution_count": 100,
   "id": "60622647",
   "metadata": {},
   "outputs": [
    {
     "name": "stdout",
     "output_type": "stream",
     "text": [
      "Help on method_descriptor:\n",
      "\n",
      "lstrip(self, chars=None, /)\n",
      "    Return a copy of the string with leading whitespace removed.\n",
      "    \n",
      "    If chars is given and not None, remove characters in chars instead.\n",
      "\n"
     ]
    }
   ],
   "source": [
    "help(str.lstrip)"
   ]
  },
  {
   "cell_type": "markdown",
   "id": "e92b1b41",
   "metadata": {},
   "source": [
    "## 35. lstrip()\n",
    "## lstrip() method returns a copy of the string with leading characters removed (based on the string argument passed).\n",
    "If no argument is passed, it removes leading spaces.\n",
    "\n",
    "Syntax: string.lstrip(characters)\n",
    "\n",
    "Parameters:\n",
    "characters [optional]: A set of characters to remove as leading characters. By default, it uses space as the character to remove.\n",
    "\n",
    "Return:\n",
    "Returns a copy of the string with leading characters stripped."
   ]
  },
  {
   "cell_type": "code",
   "execution_count": 101,
   "id": "833a0dbe",
   "metadata": {},
   "outputs": [
    {
     "name": "stdout",
     "output_type": "stream",
     "text": [
      "   $%!@#malayalam#@!    $%!@#malayalam#@!\n"
     ]
    },
    {
     "data": {
      "text/plain": [
       "'$%!@#malayalam#@!'"
      ]
     },
     "execution_count": 101,
     "metadata": {},
     "output_type": "execute_result"
    }
   ],
   "source": [
    "m='   $%!@#malayalam#@!'\n",
    "m.lstrip()\n",
    "mc,ms=m.center(20),m.center(20,'*')\n",
    "print(mc,ms)\n",
    "mc\n",
    "mc.lstrip()"
   ]
  }
 ],
 "metadata": {
  "kernelspec": {
   "display_name": "Python 3 (ipykernel)",
   "language": "python",
   "name": "python3"
  },
  "language_info": {
   "codemirror_mode": {
    "name": "ipython",
    "version": 3
   },
   "file_extension": ".py",
   "mimetype": "text/x-python",
   "name": "python",
   "nbconvert_exporter": "python",
   "pygments_lexer": "ipython3",
   "version": "3.11.5"
  }
 },
 "nbformat": 4,
 "nbformat_minor": 5
}
