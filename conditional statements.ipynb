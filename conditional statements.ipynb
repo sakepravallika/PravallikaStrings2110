{
 "cells": [
  {
   "cell_type": "markdown",
   "id": "81ffa2df",
   "metadata": {},
   "source": [
    "## conditional statements:\n",
    "   ### The conditional statements help to jump from one part of program to another depending on whether a particular condition is satisfied or not.\n",
    "       1.If statement\n",
    "       2.Else statement\n",
    "       3.Elif statement\n",
    "  ## 1.If statement:\n",
    "                      if statements are futher divided into 4 types.They are:\n",
    "                              1.simple if\n",
    "                              2.if else statment\n",
    "                              3.if elif else ladder\n",
    "                              4.nested if\n",
    "                              \n",
    "  ## Simple if:\n",
    "                    if statement is used to execute one set of statements based on the results of a given test conditions.if condition is \"true\" then executed only within If-block statements only.\n",
    "                              "
   ]
  },
  {
   "cell_type": "code",
   "execution_count": 8,
   "id": "80b15350",
   "metadata": {},
   "outputs": [
    {
     "name": "stdout",
     "output_type": "stream",
     "text": [
      "No\n"
     ]
    }
   ],
   "source": [
    "a = 10\n",
    "b = 20\n",
    "if a == b:\n",
    "    print('Yes')\n",
    "else:\n",
    "    print('No')\n"
   ]
  },
  {
   "cell_type": "markdown",
   "id": "858acc15",
   "metadata": {},
   "source": [
    "## If-else statement:\n",
    "        The if Else statement is an extension of the simple if statements.it has two blocks.\n",
    "            1. if the test expression is \"True\" then executed the true blocks of statements.\n",
    "            2. if the test expression is \"False\" then executed the false blocks of statements."
   ]
  },
  {
   "cell_type": "code",
   "execution_count": 3,
   "id": "b346bf47",
   "metadata": {},
   "outputs": [
    {
     "name": "stdout",
     "output_type": "stream",
     "text": [
      "TRUE\n"
     ]
    }
   ],
   "source": [
    "num = 30\n",
    "if num > 10:\n",
    "    print(\"TRUE\")\n",
    "else:\n",
    "    print(\"False\")"
   ]
  },
  {
   "cell_type": "markdown",
   "id": "2e41aca4",
   "metadata": {},
   "source": [
    "## If-elif-else-lader:\n",
    "      if else if ladder is used when we compare more than one condition to execute one set of statements among several mutually exclusive statements."
   ]
  },
  {
   "cell_type": "code",
   "execution_count": 5,
   "id": "3e0eab81",
   "metadata": {},
   "outputs": [
    {
     "name": "stdout",
     "output_type": "stream",
     "text": [
      "Friday\n"
     ]
    }
   ],
   "source": [
    "num=5\n",
    "if num==1:\n",
    "    print('Monday');\n",
    "elif num==2:\n",
    "    print('Tuesday')\n",
    "elif num==3:\n",
    "    print('Wednesday')\n",
    "elif num==4:\n",
    "    print('Thursday')\n",
    "elif num==5:\n",
    "    print('Friday')\n",
    "elif num==6:\n",
    "    print('Saturday')\n",
    "elif num==7:\n",
    "    print('Sunday')\n",
    "\n",
    "    "
   ]
  },
  {
   "cell_type": "markdown",
   "id": "5bd644fb",
   "metadata": {},
   "source": [
    "## Nested if:\n",
    "     when a series of decisions are involved for the execution of a statements block we may have use more than one if...Else statements in nested form."
   ]
  },
  {
   "cell_type": "code",
   "execution_count": 7,
   "id": "796a7f79",
   "metadata": {},
   "outputs": [
    {
     "name": "stdout",
     "output_type": "stream",
     "text": [
      "c is an odd number less than 25 \n"
     ]
    }
   ],
   "source": [
    "c=21\n",
    "if c<25:\n",
    "    if c%2==0:\n",
    "        print(\"c is an even number less than 25\")\n",
    "    else:\n",
    "        print(\"c is an odd number less than 25 \")\n",
    "else:\n",
    "        print(\"c is greater than 25\")"
   ]
  },
  {
   "cell_type": "markdown",
   "id": "9a813927",
   "metadata": {},
   "source": [
    "## Conditional loops :\n",
    "###  1.while loop:\n",
    "    A While loop is used to execute a block of statements repeatedly until a given condition is satisfied."
   ]
  },
  {
   "cell_type": "code",
   "execution_count": 11,
   "id": "152000b5",
   "metadata": {},
   "outputs": [
    {
     "name": "stdout",
     "output_type": "stream",
     "text": [
      "1\n",
      "2\n",
      "3\n",
      "4\n",
      "5\n",
      "6\n",
      "7\n",
      "8\n"
     ]
    }
   ],
   "source": [
    "x = 1\n",
    "while x <9:\n",
    "    print(x)\n",
    "    x = x+ 1\n",
    "    if x == 3:\n",
    "        continue"
   ]
  },
  {
   "cell_type": "markdown",
   "id": "7b773cd3",
   "metadata": {},
   "source": [
    "## For loop:\n",
    "     The for loop is another entry-controlled loop that provided a more convinent construct looping control structure."
   ]
  },
  {
   "cell_type": "code",
   "execution_count": 12,
   "id": "a6f9d8bb",
   "metadata": {},
   "outputs": [
    {
     "name": "stdout",
     "output_type": "stream",
     "text": [
      "[1]\n",
      "[1, 4]\n",
      "[1, 4, 9]\n",
      "[1, 4, 9, 16]\n",
      "[1, 4, 9, 16, 81]\n",
      "[1, 4, 9, 16, 81, 256]\n"
     ]
    }
   ],
   "source": [
    "numbers = [1,2,3,4,9,16]\n",
    "b =[]\n",
    "for i in numbers:\n",
    "    b.append(i**2)\n",
    "    print(b)"
   ]
  },
  {
   "cell_type": "markdown",
   "id": "79485475",
   "metadata": {},
   "source": [
    "## loop control statements:\n",
    "### 1.Pass statement:\n",
    "         The place statement is used as placholder for future code."
   ]
  },
  {
   "cell_type": "code",
   "execution_count": 13,
   "id": "034f4f8e",
   "metadata": {},
   "outputs": [],
   "source": [
    "x = 3 \n",
    "\n",
    "if (x == 3):\n",
    "    pass \n",
    "else:\n",
    "    print(\"x is not equal to 3\")"
   ]
  },
  {
   "cell_type": "markdown",
   "id": "0efe2fb1",
   "metadata": {},
   "source": [
    "## Continue statement:\n",
    "      The continue statement tells the complier \"skip the following statement and continue with the next iteration\"."
   ]
  },
  {
   "cell_type": "code",
   "execution_count": null,
   "id": "4a28b532",
   "metadata": {},
   "outputs": [],
   "source": [
    "count = 10\n",
    "\n",
    "while count > 0:\n",
    "    if count % 3 ==0:\n",
    "        count -= 1\n",
    "        continue\n",
    "        print(f'processing number{count}')\n",
    "        count -=1\n",
    "        "
   ]
  },
  {
   "cell_type": "markdown",
   "id": "72ba78a3",
   "metadata": {},
   "source": [
    "## Break statement:\n",
    "    A break statement allows to exit from any point with in its body,by passing its normal termination expression."
   ]
  },
  {
   "cell_type": "code",
   "execution_count": null,
   "id": "0964d802",
   "metadata": {},
   "outputs": [],
   "source": [
    "n=0\n",
    "# defining the while loop\n",
    "while n<=10;\n",
    "   print (n)\n",
    "   n=n+1\n",
    "   if n==5:\n",
    "        # Breaking the loop when n=5 \n",
    "        break\n",
    "print(\"End of the while loop\")"
   ]
  },
  {
   "cell_type": "code",
   "execution_count": null,
   "id": "05ea8199",
   "metadata": {},
   "outputs": [],
   "source": []
  },
  {
   "cell_type": "code",
   "execution_count": null,
   "id": "63cabb18",
   "metadata": {},
   "outputs": [],
   "source": []
  },
  {
   "cell_type": "code",
   "execution_count": null,
   "id": "9e833877",
   "metadata": {},
   "outputs": [],
   "source": []
  }
 ],
 "metadata": {
  "kernelspec": {
   "display_name": "Python 3 (ipykernel)",
   "language": "python",
   "name": "python3"
  },
  "language_info": {
   "codemirror_mode": {
    "name": "ipython",
    "version": 3
   },
   "file_extension": ".py",
   "mimetype": "text/x-python",
   "name": "python",
   "nbconvert_exporter": "python",
   "pygments_lexer": "ipython3",
   "version": "3.11.5"
  }
 },
 "nbformat": 4,
 "nbformat_minor": 5
}
